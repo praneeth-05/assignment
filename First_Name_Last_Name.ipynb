{
  "nbformat": 4,
  "nbformat_minor": 0,
  "metadata": {
    "colab": {
      "provenance": [],
      "include_colab_link": true
    },
    "kernelspec": {
      "name": "python3",
      "display_name": "Python 3"
    },
    "language_info": {
      "name": "python"
    }
  },
  "cells": [
    {
      "cell_type": "markdown",
      "metadata": {
        "id": "view-in-github",
        "colab_type": "text"
      },
      "source": [
        "<a href=\"https://colab.research.google.com/github/praneeth-05/assignment/blob/main/First_Name_Last_Name.ipynb\" target=\"_parent\"><img src=\"https://colab.research.google.com/assets/colab-badge.svg\" alt=\"Open In Colab\"/></a>"
      ]
    },
    {
      "cell_type": "code",
      "execution_count": null,
      "metadata": {
        "id": "-DiTPokkgPI7"
      },
      "outputs": [],
      "source": [
        "import pandas as pd\n",
        "import seaborn as sns\n",
        "from sklearn import metrics\n",
        "import numpy as np\n",
        "import datetime as dt\n",
        "from datetime import datetime\n",
        "import matplotlib.pyplot as plt\n",
        "\n"
      ]
    },
    {
      "cell_type": "code",
      "source": [
        "data=pd.read_excel('assignment_python.xlsx',header=0)\n",
        "data"
      ],
      "metadata": {
        "colab": {
          "base_uri": "https://localhost:8080/",
          "height": 423
        },
        "id": "QOF8vkxygx-6",
        "outputId": "fde6a60b-a388-4d7b-f720-6e27fedf03ed"
      },
      "execution_count": null,
      "outputs": [
        {
          "output_type": "execute_result",
          "data": {
            "text/plain": [
              "       IDCUSTOMER GENDER        CITY COUNTRY  FIRST_DEPOSIT_AMOUNT  \\\n",
              "0         5075649      M      ankara  Turkey                 100.0   \n",
              "1         5176235      M    elazÄ±ÄŸ  Turkey                 400.0   \n",
              "2         5249140      M       izmir  Turkey                 200.0   \n",
              "3         5300998      M   ÃœskÃ¼dar  Turkey                 100.0   \n",
              "4         5371454      M     sakarya  Turkey                 880.0   \n",
              "...           ...    ...         ...     ...                   ...   \n",
              "22060   147844121      M   Ä°stanbul  Turkey                  50.0   \n",
              "22061   147844491      M  EskiÅŸehir  Turkey                  50.0   \n",
              "22062   147846481      M         Van  Turkey                 100.0   \n",
              "22063   147843561      M     Antalya  Turkey                 200.0   \n",
              "22064   147844971      M   Ä°stanbul  Turkey                 150.0   \n",
              "\n",
              "      REGISTRATION_DATE DEPOSIT_DATE  \n",
              "0            2009-01-10   2022-06-05  \n",
              "1            2009-03-01   2022-02-11  \n",
              "2            2009-04-06   2022-05-02  \n",
              "3            2009-05-02   2022-02-11  \n",
              "4            2009-06-07   2022-05-29  \n",
              "...                 ...          ...  \n",
              "22060        2022-08-31   2022-08-31  \n",
              "22061        2022-08-31   2022-08-31  \n",
              "22062        2022-08-31   2022-08-31  \n",
              "22063        2022-08-31   2022-08-31  \n",
              "22064        2022-08-31   2022-08-31  \n",
              "\n",
              "[22065 rows x 7 columns]"
            ],
            "text/html": [
              "\n",
              "\n",
              "  <div id=\"df-6efe05df-e740-4ea0-92e5-75b3f17f3f20\">\n",
              "    <div class=\"colab-df-container\">\n",
              "      <div>\n",
              "<style scoped>\n",
              "    .dataframe tbody tr th:only-of-type {\n",
              "        vertical-align: middle;\n",
              "    }\n",
              "\n",
              "    .dataframe tbody tr th {\n",
              "        vertical-align: top;\n",
              "    }\n",
              "\n",
              "    .dataframe thead th {\n",
              "        text-align: right;\n",
              "    }\n",
              "</style>\n",
              "<table border=\"1\" class=\"dataframe\">\n",
              "  <thead>\n",
              "    <tr style=\"text-align: right;\">\n",
              "      <th></th>\n",
              "      <th>IDCUSTOMER</th>\n",
              "      <th>GENDER</th>\n",
              "      <th>CITY</th>\n",
              "      <th>COUNTRY</th>\n",
              "      <th>FIRST_DEPOSIT_AMOUNT</th>\n",
              "      <th>REGISTRATION_DATE</th>\n",
              "      <th>DEPOSIT_DATE</th>\n",
              "    </tr>\n",
              "  </thead>\n",
              "  <tbody>\n",
              "    <tr>\n",
              "      <th>0</th>\n",
              "      <td>5075649</td>\n",
              "      <td>M</td>\n",
              "      <td>ankara</td>\n",
              "      <td>Turkey</td>\n",
              "      <td>100.0</td>\n",
              "      <td>2009-01-10</td>\n",
              "      <td>2022-06-05</td>\n",
              "    </tr>\n",
              "    <tr>\n",
              "      <th>1</th>\n",
              "      <td>5176235</td>\n",
              "      <td>M</td>\n",
              "      <td>elazÄ±ÄŸ</td>\n",
              "      <td>Turkey</td>\n",
              "      <td>400.0</td>\n",
              "      <td>2009-03-01</td>\n",
              "      <td>2022-02-11</td>\n",
              "    </tr>\n",
              "    <tr>\n",
              "      <th>2</th>\n",
              "      <td>5249140</td>\n",
              "      <td>M</td>\n",
              "      <td>izmir</td>\n",
              "      <td>Turkey</td>\n",
              "      <td>200.0</td>\n",
              "      <td>2009-04-06</td>\n",
              "      <td>2022-05-02</td>\n",
              "    </tr>\n",
              "    <tr>\n",
              "      <th>3</th>\n",
              "      <td>5300998</td>\n",
              "      <td>M</td>\n",
              "      <td>ÃœskÃ¼dar</td>\n",
              "      <td>Turkey</td>\n",
              "      <td>100.0</td>\n",
              "      <td>2009-05-02</td>\n",
              "      <td>2022-02-11</td>\n",
              "    </tr>\n",
              "    <tr>\n",
              "      <th>4</th>\n",
              "      <td>5371454</td>\n",
              "      <td>M</td>\n",
              "      <td>sakarya</td>\n",
              "      <td>Turkey</td>\n",
              "      <td>880.0</td>\n",
              "      <td>2009-06-07</td>\n",
              "      <td>2022-05-29</td>\n",
              "    </tr>\n",
              "    <tr>\n",
              "      <th>...</th>\n",
              "      <td>...</td>\n",
              "      <td>...</td>\n",
              "      <td>...</td>\n",
              "      <td>...</td>\n",
              "      <td>...</td>\n",
              "      <td>...</td>\n",
              "      <td>...</td>\n",
              "    </tr>\n",
              "    <tr>\n",
              "      <th>22060</th>\n",
              "      <td>147844121</td>\n",
              "      <td>M</td>\n",
              "      <td>Ä°stanbul</td>\n",
              "      <td>Turkey</td>\n",
              "      <td>50.0</td>\n",
              "      <td>2022-08-31</td>\n",
              "      <td>2022-08-31</td>\n",
              "    </tr>\n",
              "    <tr>\n",
              "      <th>22061</th>\n",
              "      <td>147844491</td>\n",
              "      <td>M</td>\n",
              "      <td>EskiÅŸehir</td>\n",
              "      <td>Turkey</td>\n",
              "      <td>50.0</td>\n",
              "      <td>2022-08-31</td>\n",
              "      <td>2022-08-31</td>\n",
              "    </tr>\n",
              "    <tr>\n",
              "      <th>22062</th>\n",
              "      <td>147846481</td>\n",
              "      <td>M</td>\n",
              "      <td>Van</td>\n",
              "      <td>Turkey</td>\n",
              "      <td>100.0</td>\n",
              "      <td>2022-08-31</td>\n",
              "      <td>2022-08-31</td>\n",
              "    </tr>\n",
              "    <tr>\n",
              "      <th>22063</th>\n",
              "      <td>147843561</td>\n",
              "      <td>M</td>\n",
              "      <td>Antalya</td>\n",
              "      <td>Turkey</td>\n",
              "      <td>200.0</td>\n",
              "      <td>2022-08-31</td>\n",
              "      <td>2022-08-31</td>\n",
              "    </tr>\n",
              "    <tr>\n",
              "      <th>22064</th>\n",
              "      <td>147844971</td>\n",
              "      <td>M</td>\n",
              "      <td>Ä°stanbul</td>\n",
              "      <td>Turkey</td>\n",
              "      <td>150.0</td>\n",
              "      <td>2022-08-31</td>\n",
              "      <td>2022-08-31</td>\n",
              "    </tr>\n",
              "  </tbody>\n",
              "</table>\n",
              "<p>22065 rows × 7 columns</p>\n",
              "</div>\n",
              "      <button class=\"colab-df-convert\" onclick=\"convertToInteractive('df-6efe05df-e740-4ea0-92e5-75b3f17f3f20')\"\n",
              "              title=\"Convert this dataframe to an interactive table.\"\n",
              "              style=\"display:none;\">\n",
              "\n",
              "  <svg xmlns=\"http://www.w3.org/2000/svg\" height=\"24px\"viewBox=\"0 0 24 24\"\n",
              "       width=\"24px\">\n",
              "    <path d=\"M0 0h24v24H0V0z\" fill=\"none\"/>\n",
              "    <path d=\"M18.56 5.44l.94 2.06.94-2.06 2.06-.94-2.06-.94-.94-2.06-.94 2.06-2.06.94zm-11 1L8.5 8.5l.94-2.06 2.06-.94-2.06-.94L8.5 2.5l-.94 2.06-2.06.94zm10 10l.94 2.06.94-2.06 2.06-.94-2.06-.94-.94-2.06-.94 2.06-2.06.94z\"/><path d=\"M17.41 7.96l-1.37-1.37c-.4-.4-.92-.59-1.43-.59-.52 0-1.04.2-1.43.59L10.3 9.45l-7.72 7.72c-.78.78-.78 2.05 0 2.83L4 21.41c.39.39.9.59 1.41.59.51 0 1.02-.2 1.41-.59l7.78-7.78 2.81-2.81c.8-.78.8-2.07 0-2.86zM5.41 20L4 18.59l7.72-7.72 1.47 1.35L5.41 20z\"/>\n",
              "  </svg>\n",
              "      </button>\n",
              "\n",
              "\n",
              "\n",
              "    <div id=\"df-d6f28324-b287-44e0-8889-cc56e5949aea\">\n",
              "      <button class=\"colab-df-quickchart\" onclick=\"quickchart('df-d6f28324-b287-44e0-8889-cc56e5949aea')\"\n",
              "              title=\"Suggest charts.\"\n",
              "              style=\"display:none;\">\n",
              "\n",
              "<svg xmlns=\"http://www.w3.org/2000/svg\" height=\"24px\"viewBox=\"0 0 24 24\"\n",
              "     width=\"24px\">\n",
              "    <g>\n",
              "        <path d=\"M19 3H5c-1.1 0-2 .9-2 2v14c0 1.1.9 2 2 2h14c1.1 0 2-.9 2-2V5c0-1.1-.9-2-2-2zM9 17H7v-7h2v7zm4 0h-2V7h2v10zm4 0h-2v-4h2v4z\"/>\n",
              "    </g>\n",
              "</svg>\n",
              "      </button>\n",
              "    </div>\n",
              "\n",
              "<style>\n",
              "  .colab-df-quickchart {\n",
              "    background-color: #E8F0FE;\n",
              "    border: none;\n",
              "    border-radius: 50%;\n",
              "    cursor: pointer;\n",
              "    display: none;\n",
              "    fill: #1967D2;\n",
              "    height: 32px;\n",
              "    padding: 0 0 0 0;\n",
              "    width: 32px;\n",
              "  }\n",
              "\n",
              "  .colab-df-quickchart:hover {\n",
              "    background-color: #E2EBFA;\n",
              "    box-shadow: 0px 1px 2px rgba(60, 64, 67, 0.3), 0px 1px 3px 1px rgba(60, 64, 67, 0.15);\n",
              "    fill: #174EA6;\n",
              "  }\n",
              "\n",
              "  [theme=dark] .colab-df-quickchart {\n",
              "    background-color: #3B4455;\n",
              "    fill: #D2E3FC;\n",
              "  }\n",
              "\n",
              "  [theme=dark] .colab-df-quickchart:hover {\n",
              "    background-color: #434B5C;\n",
              "    box-shadow: 0px 1px 3px 1px rgba(0, 0, 0, 0.15);\n",
              "    filter: drop-shadow(0px 1px 2px rgba(0, 0, 0, 0.3));\n",
              "    fill: #FFFFFF;\n",
              "  }\n",
              "</style>\n",
              "\n",
              "    <script>\n",
              "      async function quickchart(key) {\n",
              "        const containerElement = document.querySelector('#' + key);\n",
              "        const charts = await google.colab.kernel.invokeFunction(\n",
              "            'suggestCharts', [key], {});\n",
              "      }\n",
              "    </script>\n",
              "\n",
              "      <script>\n",
              "\n",
              "function displayQuickchartButton(domScope) {\n",
              "  let quickchartButtonEl =\n",
              "    domScope.querySelector('#df-d6f28324-b287-44e0-8889-cc56e5949aea button.colab-df-quickchart');\n",
              "  quickchartButtonEl.style.display =\n",
              "    google.colab.kernel.accessAllowed ? 'block' : 'none';\n",
              "}\n",
              "\n",
              "        displayQuickchartButton(document);\n",
              "      </script>\n",
              "      <style>\n",
              "    .colab-df-container {\n",
              "      display:flex;\n",
              "      flex-wrap:wrap;\n",
              "      gap: 12px;\n",
              "    }\n",
              "\n",
              "    .colab-df-convert {\n",
              "      background-color: #E8F0FE;\n",
              "      border: none;\n",
              "      border-radius: 50%;\n",
              "      cursor: pointer;\n",
              "      display: none;\n",
              "      fill: #1967D2;\n",
              "      height: 32px;\n",
              "      padding: 0 0 0 0;\n",
              "      width: 32px;\n",
              "    }\n",
              "\n",
              "    .colab-df-convert:hover {\n",
              "      background-color: #E2EBFA;\n",
              "      box-shadow: 0px 1px 2px rgba(60, 64, 67, 0.3), 0px 1px 3px 1px rgba(60, 64, 67, 0.15);\n",
              "      fill: #174EA6;\n",
              "    }\n",
              "\n",
              "    [theme=dark] .colab-df-convert {\n",
              "      background-color: #3B4455;\n",
              "      fill: #D2E3FC;\n",
              "    }\n",
              "\n",
              "    [theme=dark] .colab-df-convert:hover {\n",
              "      background-color: #434B5C;\n",
              "      box-shadow: 0px 1px 3px 1px rgba(0, 0, 0, 0.15);\n",
              "      filter: drop-shadow(0px 1px 2px rgba(0, 0, 0, 0.3));\n",
              "      fill: #FFFFFF;\n",
              "    }\n",
              "  </style>\n",
              "\n",
              "      <script>\n",
              "        const buttonEl =\n",
              "          document.querySelector('#df-6efe05df-e740-4ea0-92e5-75b3f17f3f20 button.colab-df-convert');\n",
              "        buttonEl.style.display =\n",
              "          google.colab.kernel.accessAllowed ? 'block' : 'none';\n",
              "\n",
              "        async function convertToInteractive(key) {\n",
              "          const element = document.querySelector('#df-6efe05df-e740-4ea0-92e5-75b3f17f3f20');\n",
              "          const dataTable =\n",
              "            await google.colab.kernel.invokeFunction('convertToInteractive',\n",
              "                                                     [key], {});\n",
              "          if (!dataTable) return;\n",
              "\n",
              "          const docLinkHtml = 'Like what you see? Visit the ' +\n",
              "            '<a target=\"_blank\" href=https://colab.research.google.com/notebooks/data_table.ipynb>data table notebook</a>'\n",
              "            + ' to learn more about interactive tables.';\n",
              "          element.innerHTML = '';\n",
              "          dataTable['output_type'] = 'display_data';\n",
              "          await google.colab.output.renderOutput(dataTable, element);\n",
              "          const docLink = document.createElement('div');\n",
              "          docLink.innerHTML = docLinkHtml;\n",
              "          element.appendChild(docLink);\n",
              "        }\n",
              "      </script>\n",
              "    </div>\n",
              "  </div>\n"
            ]
          },
          "metadata": {},
          "execution_count": 2
        }
      ]
    },
    {
      "cell_type": "code",
      "source": [
        "data.to_csv('assignment_python.csv', index=False)\n",
        "data"
      ],
      "metadata": {
        "colab": {
          "base_uri": "https://localhost:8080/",
          "height": 423
        },
        "id": "Xnr9cvwzgmp3",
        "outputId": "22927395-99c2-4aa9-94ef-589543368a35"
      },
      "execution_count": null,
      "outputs": [
        {
          "output_type": "execute_result",
          "data": {
            "text/plain": [
              "       IDCUSTOMER GENDER        CITY COUNTRY  FIRST_DEPOSIT_AMOUNT  \\\n",
              "0         5075649      M      ankara  Turkey                 100.0   \n",
              "1         5176235      M    elazÄ±ÄŸ  Turkey                 400.0   \n",
              "2         5249140      M       izmir  Turkey                 200.0   \n",
              "3         5300998      M   ÃœskÃ¼dar  Turkey                 100.0   \n",
              "4         5371454      M     sakarya  Turkey                 880.0   \n",
              "...           ...    ...         ...     ...                   ...   \n",
              "22060   147844121      M   Ä°stanbul  Turkey                  50.0   \n",
              "22061   147844491      M  EskiÅŸehir  Turkey                  50.0   \n",
              "22062   147846481      M         Van  Turkey                 100.0   \n",
              "22063   147843561      M     Antalya  Turkey                 200.0   \n",
              "22064   147844971      M   Ä°stanbul  Turkey                 150.0   \n",
              "\n",
              "      REGISTRATION_DATE DEPOSIT_DATE  \n",
              "0            2009-01-10   2022-06-05  \n",
              "1            2009-03-01   2022-02-11  \n",
              "2            2009-04-06   2022-05-02  \n",
              "3            2009-05-02   2022-02-11  \n",
              "4            2009-06-07   2022-05-29  \n",
              "...                 ...          ...  \n",
              "22060        2022-08-31   2022-08-31  \n",
              "22061        2022-08-31   2022-08-31  \n",
              "22062        2022-08-31   2022-08-31  \n",
              "22063        2022-08-31   2022-08-31  \n",
              "22064        2022-08-31   2022-08-31  \n",
              "\n",
              "[22065 rows x 7 columns]"
            ],
            "text/html": [
              "\n",
              "\n",
              "  <div id=\"df-9e23169f-0a7c-40f0-8d0b-4469f8834167\">\n",
              "    <div class=\"colab-df-container\">\n",
              "      <div>\n",
              "<style scoped>\n",
              "    .dataframe tbody tr th:only-of-type {\n",
              "        vertical-align: middle;\n",
              "    }\n",
              "\n",
              "    .dataframe tbody tr th {\n",
              "        vertical-align: top;\n",
              "    }\n",
              "\n",
              "    .dataframe thead th {\n",
              "        text-align: right;\n",
              "    }\n",
              "</style>\n",
              "<table border=\"1\" class=\"dataframe\">\n",
              "  <thead>\n",
              "    <tr style=\"text-align: right;\">\n",
              "      <th></th>\n",
              "      <th>IDCUSTOMER</th>\n",
              "      <th>GENDER</th>\n",
              "      <th>CITY</th>\n",
              "      <th>COUNTRY</th>\n",
              "      <th>FIRST_DEPOSIT_AMOUNT</th>\n",
              "      <th>REGISTRATION_DATE</th>\n",
              "      <th>DEPOSIT_DATE</th>\n",
              "    </tr>\n",
              "  </thead>\n",
              "  <tbody>\n",
              "    <tr>\n",
              "      <th>0</th>\n",
              "      <td>5075649</td>\n",
              "      <td>M</td>\n",
              "      <td>ankara</td>\n",
              "      <td>Turkey</td>\n",
              "      <td>100.0</td>\n",
              "      <td>2009-01-10</td>\n",
              "      <td>2022-06-05</td>\n",
              "    </tr>\n",
              "    <tr>\n",
              "      <th>1</th>\n",
              "      <td>5176235</td>\n",
              "      <td>M</td>\n",
              "      <td>elazÄ±ÄŸ</td>\n",
              "      <td>Turkey</td>\n",
              "      <td>400.0</td>\n",
              "      <td>2009-03-01</td>\n",
              "      <td>2022-02-11</td>\n",
              "    </tr>\n",
              "    <tr>\n",
              "      <th>2</th>\n",
              "      <td>5249140</td>\n",
              "      <td>M</td>\n",
              "      <td>izmir</td>\n",
              "      <td>Turkey</td>\n",
              "      <td>200.0</td>\n",
              "      <td>2009-04-06</td>\n",
              "      <td>2022-05-02</td>\n",
              "    </tr>\n",
              "    <tr>\n",
              "      <th>3</th>\n",
              "      <td>5300998</td>\n",
              "      <td>M</td>\n",
              "      <td>ÃœskÃ¼dar</td>\n",
              "      <td>Turkey</td>\n",
              "      <td>100.0</td>\n",
              "      <td>2009-05-02</td>\n",
              "      <td>2022-02-11</td>\n",
              "    </tr>\n",
              "    <tr>\n",
              "      <th>4</th>\n",
              "      <td>5371454</td>\n",
              "      <td>M</td>\n",
              "      <td>sakarya</td>\n",
              "      <td>Turkey</td>\n",
              "      <td>880.0</td>\n",
              "      <td>2009-06-07</td>\n",
              "      <td>2022-05-29</td>\n",
              "    </tr>\n",
              "    <tr>\n",
              "      <th>...</th>\n",
              "      <td>...</td>\n",
              "      <td>...</td>\n",
              "      <td>...</td>\n",
              "      <td>...</td>\n",
              "      <td>...</td>\n",
              "      <td>...</td>\n",
              "      <td>...</td>\n",
              "    </tr>\n",
              "    <tr>\n",
              "      <th>22060</th>\n",
              "      <td>147844121</td>\n",
              "      <td>M</td>\n",
              "      <td>Ä°stanbul</td>\n",
              "      <td>Turkey</td>\n",
              "      <td>50.0</td>\n",
              "      <td>2022-08-31</td>\n",
              "      <td>2022-08-31</td>\n",
              "    </tr>\n",
              "    <tr>\n",
              "      <th>22061</th>\n",
              "      <td>147844491</td>\n",
              "      <td>M</td>\n",
              "      <td>EskiÅŸehir</td>\n",
              "      <td>Turkey</td>\n",
              "      <td>50.0</td>\n",
              "      <td>2022-08-31</td>\n",
              "      <td>2022-08-31</td>\n",
              "    </tr>\n",
              "    <tr>\n",
              "      <th>22062</th>\n",
              "      <td>147846481</td>\n",
              "      <td>M</td>\n",
              "      <td>Van</td>\n",
              "      <td>Turkey</td>\n",
              "      <td>100.0</td>\n",
              "      <td>2022-08-31</td>\n",
              "      <td>2022-08-31</td>\n",
              "    </tr>\n",
              "    <tr>\n",
              "      <th>22063</th>\n",
              "      <td>147843561</td>\n",
              "      <td>M</td>\n",
              "      <td>Antalya</td>\n",
              "      <td>Turkey</td>\n",
              "      <td>200.0</td>\n",
              "      <td>2022-08-31</td>\n",
              "      <td>2022-08-31</td>\n",
              "    </tr>\n",
              "    <tr>\n",
              "      <th>22064</th>\n",
              "      <td>147844971</td>\n",
              "      <td>M</td>\n",
              "      <td>Ä°stanbul</td>\n",
              "      <td>Turkey</td>\n",
              "      <td>150.0</td>\n",
              "      <td>2022-08-31</td>\n",
              "      <td>2022-08-31</td>\n",
              "    </tr>\n",
              "  </tbody>\n",
              "</table>\n",
              "<p>22065 rows × 7 columns</p>\n",
              "</div>\n",
              "      <button class=\"colab-df-convert\" onclick=\"convertToInteractive('df-9e23169f-0a7c-40f0-8d0b-4469f8834167')\"\n",
              "              title=\"Convert this dataframe to an interactive table.\"\n",
              "              style=\"display:none;\">\n",
              "\n",
              "  <svg xmlns=\"http://www.w3.org/2000/svg\" height=\"24px\"viewBox=\"0 0 24 24\"\n",
              "       width=\"24px\">\n",
              "    <path d=\"M0 0h24v24H0V0z\" fill=\"none\"/>\n",
              "    <path d=\"M18.56 5.44l.94 2.06.94-2.06 2.06-.94-2.06-.94-.94-2.06-.94 2.06-2.06.94zm-11 1L8.5 8.5l.94-2.06 2.06-.94-2.06-.94L8.5 2.5l-.94 2.06-2.06.94zm10 10l.94 2.06.94-2.06 2.06-.94-2.06-.94-.94-2.06-.94 2.06-2.06.94z\"/><path d=\"M17.41 7.96l-1.37-1.37c-.4-.4-.92-.59-1.43-.59-.52 0-1.04.2-1.43.59L10.3 9.45l-7.72 7.72c-.78.78-.78 2.05 0 2.83L4 21.41c.39.39.9.59 1.41.59.51 0 1.02-.2 1.41-.59l7.78-7.78 2.81-2.81c.8-.78.8-2.07 0-2.86zM5.41 20L4 18.59l7.72-7.72 1.47 1.35L5.41 20z\"/>\n",
              "  </svg>\n",
              "      </button>\n",
              "\n",
              "\n",
              "\n",
              "    <div id=\"df-ed9b4c0a-75af-43c5-be26-008bbacd7089\">\n",
              "      <button class=\"colab-df-quickchart\" onclick=\"quickchart('df-ed9b4c0a-75af-43c5-be26-008bbacd7089')\"\n",
              "              title=\"Suggest charts.\"\n",
              "              style=\"display:none;\">\n",
              "\n",
              "<svg xmlns=\"http://www.w3.org/2000/svg\" height=\"24px\"viewBox=\"0 0 24 24\"\n",
              "     width=\"24px\">\n",
              "    <g>\n",
              "        <path d=\"M19 3H5c-1.1 0-2 .9-2 2v14c0 1.1.9 2 2 2h14c1.1 0 2-.9 2-2V5c0-1.1-.9-2-2-2zM9 17H7v-7h2v7zm4 0h-2V7h2v10zm4 0h-2v-4h2v4z\"/>\n",
              "    </g>\n",
              "</svg>\n",
              "      </button>\n",
              "    </div>\n",
              "\n",
              "<style>\n",
              "  .colab-df-quickchart {\n",
              "    background-color: #E8F0FE;\n",
              "    border: none;\n",
              "    border-radius: 50%;\n",
              "    cursor: pointer;\n",
              "    display: none;\n",
              "    fill: #1967D2;\n",
              "    height: 32px;\n",
              "    padding: 0 0 0 0;\n",
              "    width: 32px;\n",
              "  }\n",
              "\n",
              "  .colab-df-quickchart:hover {\n",
              "    background-color: #E2EBFA;\n",
              "    box-shadow: 0px 1px 2px rgba(60, 64, 67, 0.3), 0px 1px 3px 1px rgba(60, 64, 67, 0.15);\n",
              "    fill: #174EA6;\n",
              "  }\n",
              "\n",
              "  [theme=dark] .colab-df-quickchart {\n",
              "    background-color: #3B4455;\n",
              "    fill: #D2E3FC;\n",
              "  }\n",
              "\n",
              "  [theme=dark] .colab-df-quickchart:hover {\n",
              "    background-color: #434B5C;\n",
              "    box-shadow: 0px 1px 3px 1px rgba(0, 0, 0, 0.15);\n",
              "    filter: drop-shadow(0px 1px 2px rgba(0, 0, 0, 0.3));\n",
              "    fill: #FFFFFF;\n",
              "  }\n",
              "</style>\n",
              "\n",
              "    <script>\n",
              "      async function quickchart(key) {\n",
              "        const containerElement = document.querySelector('#' + key);\n",
              "        const charts = await google.colab.kernel.invokeFunction(\n",
              "            'suggestCharts', [key], {});\n",
              "      }\n",
              "    </script>\n",
              "\n",
              "      <script>\n",
              "\n",
              "function displayQuickchartButton(domScope) {\n",
              "  let quickchartButtonEl =\n",
              "    domScope.querySelector('#df-ed9b4c0a-75af-43c5-be26-008bbacd7089 button.colab-df-quickchart');\n",
              "  quickchartButtonEl.style.display =\n",
              "    google.colab.kernel.accessAllowed ? 'block' : 'none';\n",
              "}\n",
              "\n",
              "        displayQuickchartButton(document);\n",
              "      </script>\n",
              "      <style>\n",
              "    .colab-df-container {\n",
              "      display:flex;\n",
              "      flex-wrap:wrap;\n",
              "      gap: 12px;\n",
              "    }\n",
              "\n",
              "    .colab-df-convert {\n",
              "      background-color: #E8F0FE;\n",
              "      border: none;\n",
              "      border-radius: 50%;\n",
              "      cursor: pointer;\n",
              "      display: none;\n",
              "      fill: #1967D2;\n",
              "      height: 32px;\n",
              "      padding: 0 0 0 0;\n",
              "      width: 32px;\n",
              "    }\n",
              "\n",
              "    .colab-df-convert:hover {\n",
              "      background-color: #E2EBFA;\n",
              "      box-shadow: 0px 1px 2px rgba(60, 64, 67, 0.3), 0px 1px 3px 1px rgba(60, 64, 67, 0.15);\n",
              "      fill: #174EA6;\n",
              "    }\n",
              "\n",
              "    [theme=dark] .colab-df-convert {\n",
              "      background-color: #3B4455;\n",
              "      fill: #D2E3FC;\n",
              "    }\n",
              "\n",
              "    [theme=dark] .colab-df-convert:hover {\n",
              "      background-color: #434B5C;\n",
              "      box-shadow: 0px 1px 3px 1px rgba(0, 0, 0, 0.15);\n",
              "      filter: drop-shadow(0px 1px 2px rgba(0, 0, 0, 0.3));\n",
              "      fill: #FFFFFF;\n",
              "    }\n",
              "  </style>\n",
              "\n",
              "      <script>\n",
              "        const buttonEl =\n",
              "          document.querySelector('#df-9e23169f-0a7c-40f0-8d0b-4469f8834167 button.colab-df-convert');\n",
              "        buttonEl.style.display =\n",
              "          google.colab.kernel.accessAllowed ? 'block' : 'none';\n",
              "\n",
              "        async function convertToInteractive(key) {\n",
              "          const element = document.querySelector('#df-9e23169f-0a7c-40f0-8d0b-4469f8834167');\n",
              "          const dataTable =\n",
              "            await google.colab.kernel.invokeFunction('convertToInteractive',\n",
              "                                                     [key], {});\n",
              "          if (!dataTable) return;\n",
              "\n",
              "          const docLinkHtml = 'Like what you see? Visit the ' +\n",
              "            '<a target=\"_blank\" href=https://colab.research.google.com/notebooks/data_table.ipynb>data table notebook</a>'\n",
              "            + ' to learn more about interactive tables.';\n",
              "          element.innerHTML = '';\n",
              "          dataTable['output_type'] = 'display_data';\n",
              "          await google.colab.output.renderOutput(dataTable, element);\n",
              "          const docLink = document.createElement('div');\n",
              "          docLink.innerHTML = docLinkHtml;\n",
              "          element.appendChild(docLink);\n",
              "        }\n",
              "      </script>\n",
              "    </div>\n",
              "  </div>\n"
            ]
          },
          "metadata": {},
          "execution_count": 3
        }
      ]
    },
    {
      "cell_type": "code",
      "source": [
        "data.isna().sum()"
      ],
      "metadata": {
        "colab": {
          "base_uri": "https://localhost:8080/"
        },
        "id": "MX4QvPV3gmmX",
        "outputId": "f4c3c56a-bfde-47f2-d681-b888a9f758a7"
      },
      "execution_count": null,
      "outputs": [
        {
          "output_type": "execute_result",
          "data": {
            "text/plain": [
              "IDCUSTOMER              0\n",
              "GENDER                  0\n",
              "CITY                    0\n",
              "COUNTRY                 0\n",
              "FIRST_DEPOSIT_AMOUNT    0\n",
              "REGISTRATION_DATE       0\n",
              "DEPOSIT_DATE            0\n",
              "dtype: int64"
            ]
          },
          "metadata": {},
          "execution_count": 4
        }
      ]
    },
    {
      "cell_type": "code",
      "source": [
        "np.mean(data[\"FIRST_DEPOSIT_AMOUNT\"])"
      ],
      "metadata": {
        "colab": {
          "base_uri": "https://localhost:8080/"
        },
        "id": "UwoW0LstgmkP",
        "outputId": "ecf8a66b-91a4-4671-d431-8ad9702a8f3d"
      },
      "execution_count": null,
      "outputs": [
        {
          "output_type": "execute_result",
          "data": {
            "text/plain": [
              "284.80652979832314"
            ]
          },
          "metadata": {},
          "execution_count": 5
        }
      ]
    },
    {
      "cell_type": "code",
      "source": [
        "data.shape"
      ],
      "metadata": {
        "colab": {
          "base_uri": "https://localhost:8080/"
        },
        "id": "WI7d8QrIgmh4",
        "outputId": "f572ca30-0f6e-4d51-f757-e34c44dcd11b"
      },
      "execution_count": null,
      "outputs": [
        {
          "output_type": "execute_result",
          "data": {
            "text/plain": [
              "(22065, 7)"
            ]
          },
          "metadata": {},
          "execution_count": 6
        }
      ]
    },
    {
      "cell_type": "code",
      "source": [
        "print(data.dtypes)"
      ],
      "metadata": {
        "colab": {
          "base_uri": "https://localhost:8080/"
        },
        "id": "KExIVGnUgmfS",
        "outputId": "032d45e7-2dc7-4fd8-fe4d-e704f0266e5e"
      },
      "execution_count": null,
      "outputs": [
        {
          "output_type": "stream",
          "name": "stdout",
          "text": [
            "IDCUSTOMER                       int64\n",
            "GENDER                          object\n",
            "CITY                            object\n",
            "COUNTRY                         object\n",
            "FIRST_DEPOSIT_AMOUNT           float64\n",
            "REGISTRATION_DATE       datetime64[ns]\n",
            "DEPOSIT_DATE            datetime64[ns]\n",
            "dtype: object\n"
          ]
        }
      ]
    },
    {
      "cell_type": "markdown",
      "source": [
        "TIME PERIOD"
      ],
      "metadata": {
        "id": "MAsXyCYmhRtv"
      }
    },
    {
      "cell_type": "code",
      "source": [
        "def calculate_active_period(REGISTRATION_DATE,DEPOSIT_DATE):\n",
        "    active_period = (DEPOSIT_DATE-REGISTRATION_DATE).days\n",
        "    return active_period"
      ],
      "metadata": {
        "id": "Aym1mYrigmcs"
      },
      "execution_count": null,
      "outputs": []
    },
    {
      "cell_type": "code",
      "source": [
        "REGISTRATION_DATE = datetime(2009, 6, 7)  # customer ID - 5371454\n",
        "DEPOSIT_DATE = datetime(2022, 5, 29)\n",
        "days_active = calculate_active_period(REGISTRATION_DATE,DEPOSIT_DATE)\n",
        "print(\"The customer has been active for\", days_active, \"days.\")"
      ],
      "metadata": {
        "colab": {
          "base_uri": "https://localhost:8080/"
        },
        "id": "SMdLe4wlgmYB",
        "outputId": "8cf843d3-6274-4828-9b20-2062ee860043"
      },
      "execution_count": null,
      "outputs": [
        {
          "output_type": "stream",
          "name": "stdout",
          "text": [
            "The customer has been active for 4739 days.\n"
          ]
        }
      ]
    },
    {
      "cell_type": "code",
      "source": [
        "def calculate_active_period(REGISTRATION_DATE, DEPOSIT_DATE ):\n",
        "    REGISTRATION_DATE = datetime.strptime(REGISTRATION_DATE, \"%Y-%m-%d\").date()\n",
        "    DEPOSIT_DATE = datetime.strptime(DEPOSIT_DATE, \"%Y-%m-%d\").date()"
      ],
      "metadata": {
        "id": "SrcwginngmV4"
      },
      "execution_count": null,
      "outputs": []
    },
    {
      "cell_type": "code",
      "source": [
        "filtered_data=data[['COUNTRY','IDCUSTOMER']].drop_duplicates()"
      ],
      "metadata": {
        "id": "vhfo1Y8qgmQa"
      },
      "execution_count": null,
      "outputs": []
    },
    {
      "cell_type": "code",
      "source": [
        "\n",
        "filtered_data.COUNTRY.value_counts()[:1].plot(kind='bar')"
      ],
      "metadata": {
        "colab": {
          "base_uri": "https://localhost:8080/",
          "height": 478
        },
        "id": "9bcsoMPEgmN9",
        "outputId": "fe511cfc-118e-4a61-9121-5788988811a8"
      },
      "execution_count": null,
      "outputs": [
        {
          "output_type": "execute_result",
          "data": {
            "text/plain": [
              "<Axes: >"
            ]
          },
          "metadata": {},
          "execution_count": 12
        },
        {
          "output_type": "display_data",
          "data": {
            "text/plain": [
              "<Figure size 640x480 with 1 Axes>"
            ],
            "image/png": "[encoded data removed]"
          },
          "metadata": {}
        }
      ]
    },
    {
      "cell_type": "code",
      "source": [
        "Turkey_data=data[data.COUNTRY=='Turkey']\n",
        "Turkey_data.info()"
      ],
      "metadata": {
        "colab": {
          "base_uri": "https://localhost:8080/"
        },
        "id": "Fdcele6OgmLj",
        "outputId": "92118a89-76c2-4063-8f16-29bbbe81d42d"
      },
      "execution_count": null,
      "outputs": [
        {
          "output_type": "stream",
          "name": "stdout",
          "text": [
            "<class 'pandas.core.frame.DataFrame'>\n",
            "Int64Index: 22065 entries, 0 to 22064\n",
            "Data columns (total 7 columns):\n",
            " #   Column                Non-Null Count  Dtype         \n",
            "---  ------                --------------  -----         \n",
            " 0   IDCUSTOMER            22065 non-null  int64         \n",
            " 1   GENDER                22065 non-null  object        \n",
            " 2   CITY                  22065 non-null  object        \n",
            " 3   COUNTRY               22065 non-null  object        \n",
            " 4   FIRST_DEPOSIT_AMOUNT  22065 non-null  float64       \n",
            " 5   REGISTRATION_DATE     22065 non-null  datetime64[ns]\n",
            " 6   DEPOSIT_DATE          22065 non-null  datetime64[ns]\n",
            "dtypes: datetime64[ns](2), float64(1), int64(1), object(3)\n",
            "memory usage: 1.3+ MB\n"
          ]
        }
      ]
    },
    {
      "cell_type": "code",
      "source": [
        "Turkey_data.describe()"
      ],
      "metadata": {
        "colab": {
          "base_uri": "https://localhost:8080/",
          "height": 300
        },
        "id": "ffRzaHIggmJS",
        "outputId": "66276690-4f46-42fb-ff27-91bb25f5540d"
      },
      "execution_count": null,
      "outputs": [
        {
          "output_type": "execute_result",
          "data": {
            "text/plain": [
              "         IDCUSTOMER  FIRST_DEPOSIT_AMOUNT\n",
              "count  2.206500e+04          22065.000000\n",
              "mean   1.380593e+08            284.806530\n",
              "std    3.272693e+07            943.993064\n",
              "min    5.075649e+06              0.380000\n",
              "25%    1.459097e+08             70.000000\n",
              "50%    1.465139e+08            100.000000\n",
              "75%    1.471483e+08            250.000000\n",
              "max    1.478480e+08         100000.000000"
            ],
            "text/html": [
              "\n",
              "\n",
              "  <div id=\"df-54939555-802a-49fa-acdf-5e26ca955cf8\">\n",
              "    <div class=\"colab-df-container\">\n",
              "      <div>\n",
              "<style scoped>\n",
              "    .dataframe tbody tr th:only-of-type {\n",
              "        vertical-align: middle;\n",
              "    }\n",
              "\n",
              "    .dataframe tbody tr th {\n",
              "        vertical-align: top;\n",
              "    }\n",
              "\n",
              "    .dataframe thead th {\n",
              "        text-align: right;\n",
              "    }\n",
              "</style>\n",
              "<table border=\"1\" class=\"dataframe\">\n",
              "  <thead>\n",
              "    <tr style=\"text-align: right;\">\n",
              "      <th></th>\n",
              "      <th>IDCUSTOMER</th>\n",
              "      <th>FIRST_DEPOSIT_AMOUNT</th>\n",
              "    </tr>\n",
              "  </thead>\n",
              "  <tbody>\n",
              "    <tr>\n",
              "      <th>count</th>\n",
              "      <td>2.206500e+04</td>\n",
              "      <td>22065.000000</td>\n",
              "    </tr>\n",
              "    <tr>\n",
              "      <th>mean</th>\n",
              "      <td>1.380593e+08</td>\n",
              "      <td>284.806530</td>\n",
              "    </tr>\n",
              "    <tr>\n",
              "      <th>std</th>\n",
              "      <td>3.272693e+07</td>\n",
              "      <td>943.993064</td>\n",
              "    </tr>\n",
              "    <tr>\n",
              "      <th>min</th>\n",
              "      <td>5.075649e+06</td>\n",
              "      <td>0.380000</td>\n",
              "    </tr>\n",
              "    <tr>\n",
              "      <th>25%</th>\n",
              "      <td>1.459097e+08</td>\n",
              "      <td>70.000000</td>\n",
              "    </tr>\n",
              "    <tr>\n",
              "      <th>50%</th>\n",
              "      <td>1.465139e+08</td>\n",
              "      <td>100.000000</td>\n",
              "    </tr>\n",
              "    <tr>\n",
              "      <th>75%</th>\n",
              "      <td>1.471483e+08</td>\n",
              "      <td>250.000000</td>\n",
              "    </tr>\n",
              "    <tr>\n",
              "      <th>max</th>\n",
              "      <td>1.478480e+08</td>\n",
              "      <td>100000.000000</td>\n",
              "    </tr>\n",
              "  </tbody>\n",
              "</table>\n",
              "</div>\n",
              "      <button class=\"colab-df-convert\" onclick=\"convertToInteractive('df-54939555-802a-49fa-acdf-5e26ca955cf8')\"\n",
              "              title=\"Convert this dataframe to an interactive table.\"\n",
              "              style=\"display:none;\">\n",
              "\n",
              "  <svg xmlns=\"http://www.w3.org/2000/svg\" height=\"24px\"viewBox=\"0 0 24 24\"\n",
              "       width=\"24px\">\n",
              "    <path d=\"M0 0h24v24H0V0z\" fill=\"none\"/>\n",
              "    <path d=\"M18.56 5.44l.94 2.06.94-2.06 2.06-.94-2.06-.94-.94-2.06-.94 2.06-2.06.94zm-11 1L8.5 8.5l.94-2.06 2.06-.94-2.06-.94L8.5 2.5l-.94 2.06-2.06.94zm10 10l.94 2.06.94-2.06 2.06-.94-2.06-.94-.94-2.06-.94 2.06-2.06.94z\"/><path d=\"M17.41 7.96l-1.37-1.37c-.4-.4-.92-.59-1.43-.59-.52 0-1.04.2-1.43.59L10.3 9.45l-7.72 7.72c-.78.78-.78 2.05 0 2.83L4 21.41c.39.39.9.59 1.41.59.51 0 1.02-.2 1.41-.59l7.78-7.78 2.81-2.81c.8-.78.8-2.07 0-2.86zM5.41 20L4 18.59l7.72-7.72 1.47 1.35L5.41 20z\"/>\n",
              "  </svg>\n",
              "      </button>\n",
              "\n",
              "\n",
              "\n",
              "    <div id=\"df-56c97387-dcce-42b2-bb56-5241fd71b45a\">\n",
              "      <button class=\"colab-df-quickchart\" onclick=\"quickchart('df-56c97387-dcce-42b2-bb56-5241fd71b45a')\"\n",
              "              title=\"Suggest charts.\"\n",
              "              style=\"display:none;\">\n",
              "\n",
              "<svg xmlns=\"http://www.w3.org/2000/svg\" height=\"24px\"viewBox=\"0 0 24 24\"\n",
              "     width=\"24px\">\n",
              "    <g>\n",
              "        <path d=\"M19 3H5c-1.1 0-2 .9-2 2v14c0 1.1.9 2 2 2h14c1.1 0 2-.9 2-2V5c0-1.1-.9-2-2-2zM9 17H7v-7h2v7zm4 0h-2V7h2v10zm4 0h-2v-4h2v4z\"/>\n",
              "    </g>\n",
              "</svg>\n",
              "      </button>\n",
              "    </div>\n",
              "\n",
              "<style>\n",
              "  .colab-df-quickchart {\n",
              "    background-color: #E8F0FE;\n",
              "    border: none;\n",
              "    border-radius: 50%;\n",
              "    cursor: pointer;\n",
              "    display: none;\n",
              "    fill: #1967D2;\n",
              "    height: 32px;\n",
              "    padding: 0 0 0 0;\n",
              "    width: 32px;\n",
              "  }\n",
              "\n",
              "  .colab-df-quickchart:hover {\n",
              "    background-color: #E2EBFA;\n",
              "    box-shadow: 0px 1px 2px rgba(60, 64, 67, 0.3), 0px 1px 3px 1px rgba(60, 64, 67, 0.15);\n",
              "    fill: #174EA6;\n",
              "  }\n",
              "\n",
              "  [theme=dark] .colab-df-quickchart {\n",
              "    background-color: #3B4455;\n",
              "    fill: #D2E3FC;\n",
              "  }\n",
              "\n",
              "  [theme=dark] .colab-df-quickchart:hover {\n",
              "    background-color: #434B5C;\n",
              "    box-shadow: 0px 1px 3px 1px rgba(0, 0, 0, 0.15);\n",
              "    filter: drop-shadow(0px 1px 2px rgba(0, 0, 0, 0.3));\n",
              "    fill: #FFFFFF;\n",
              "  }\n",
              "</style>\n",
              "\n",
              "    <script>\n",
              "      async function quickchart(key) {\n",
              "        const containerElement = document.querySelector('#' + key);\n",
              "        const charts = await google.colab.kernel.invokeFunction(\n",
              "            'suggestCharts', [key], {});\n",
              "      }\n",
              "    </script>\n",
              "\n",
              "      <script>\n",
              "\n",
              "function displayQuickchartButton(domScope) {\n",
              "  let quickchartButtonEl =\n",
              "    domScope.querySelector('#df-56c97387-dcce-42b2-bb56-5241fd71b45a button.colab-df-quickchart');\n",
              "  quickchartButtonEl.style.display =\n",
              "    google.colab.kernel.accessAllowed ? 'block' : 'none';\n",
              "}\n",
              "\n",
              "        displayQuickchartButton(document);\n",
              "      </script>\n",
              "      <style>\n",
              "    .colab-df-container {\n",
              "      display:flex;\n",
              "      flex-wrap:wrap;\n",
              "      gap: 12px;\n",
              "    }\n",
              "\n",
              "    .colab-df-convert {\n",
              "      background-color: #E8F0FE;\n",
              "      border: none;\n",
              "      border-radius: 50%;\n",
              "      cursor: pointer;\n",
              "      display: none;\n",
              "      fill: #1967D2;\n",
              "      height: 32px;\n",
              "      padding: 0 0 0 0;\n",
              "      width: 32px;\n",
              "    }\n",
              "\n",
              "    .colab-df-convert:hover {\n",
              "      background-color: #E2EBFA;\n",
              "      box-shadow: 0px 1px 2px rgba(60, 64, 67, 0.3), 0px 1px 3px 1px rgba(60, 64, 67, 0.15);\n",
              "      fill: #174EA6;\n",
              "    }\n",
              "\n",
              "    [theme=dark] .colab-df-convert {\n",
              "      background-color: #3B4455;\n",
              "      fill: #D2E3FC;\n",
              "    }\n",
              "\n",
              "    [theme=dark] .colab-df-convert:hover {\n",
              "      background-color: #434B5C;\n",
              "      box-shadow: 0px 1px 3px 1px rgba(0, 0, 0, 0.15);\n",
              "      filter: drop-shadow(0px 1px 2px rgba(0, 0, 0, 0.3));\n",
              "      fill: #FFFFFF;\n",
              "    }\n",
              "  </style>\n",
              "\n",
              "      <script>\n",
              "        const buttonEl =\n",
              "          document.querySelector('#df-54939555-802a-49fa-acdf-5e26ca955cf8 button.colab-df-convert');\n",
              "        buttonEl.style.display =\n",
              "          google.colab.kernel.accessAllowed ? 'block' : 'none';\n",
              "\n",
              "        async function convertToInteractive(key) {\n",
              "          const element = document.querySelector('#df-54939555-802a-49fa-acdf-5e26ca955cf8');\n",
              "          const dataTable =\n",
              "            await google.colab.kernel.invokeFunction('convertToInteractive',\n",
              "                                                     [key], {});\n",
              "          if (!dataTable) return;\n",
              "\n",
              "          const docLinkHtml = 'Like what you see? Visit the ' +\n",
              "            '<a target=\"_blank\" href=https://colab.research.google.com/notebooks/data_table.ipynb>data table notebook</a>'\n",
              "            + ' to learn more about interactive tables.';\n",
              "          element.innerHTML = '';\n",
              "          dataTable['output_type'] = 'display_data';\n",
              "          await google.colab.output.renderOutput(dataTable, element);\n",
              "          const docLink = document.createElement('div');\n",
              "          docLink.innerHTML = docLinkHtml;\n",
              "          element.appendChild(docLink);\n",
              "        }\n",
              "      </script>\n",
              "    </div>\n",
              "  </div>\n"
            ]
          },
          "metadata": {},
          "execution_count": 14
        }
      ]
    },
    {
      "cell_type": "code",
      "source": [
        "Turkey_data=Turkey_data[['IDCUSTOMER','GENDER','CITY','FIRST_DEPOSIT_AMOUNT','REGISTRATION_DATE','DEPOSIT_DATE']]"
      ],
      "metadata": {
        "id": "GjAdKXrNgmGk"
      },
      "execution_count": null,
      "outputs": []
    },
    {
      "cell_type": "code",
      "source": [
        "Turkey_data['Customer_Lifetime'] = Turkey_data['DEPOSIT_DATE'] - Turkey_data['REGISTRATION_DATE']"
      ],
      "metadata": {
        "id": "E7fnlavqgmEK"
      },
      "execution_count": null,
      "outputs": []
    },
    {
      "cell_type": "code",
      "source": [
        "Turkey_data_group=Turkey_data.groupby('IDCUSTOMER').agg({'DEPOSIT_DATE': lambda date: (date.max() - date.min()).days})\n"
      ],
      "metadata": {
        "id": "P-VlW0LbgmBf"
      },
      "execution_count": null,
      "outputs": []
    },
    {
      "cell_type": "code",
      "source": [
        "Turkey_data_group.head()"
      ],
      "metadata": {
        "colab": {
          "base_uri": "https://localhost:8080/",
          "height": 237
        },
        "id": "IQetSfJ7gl_O",
        "outputId": "6298ea02-77cb-4b59-8b64-2a35224c1b4e"
      },
      "execution_count": null,
      "outputs": [
        {
          "output_type": "execute_result",
          "data": {
            "text/plain": [
              "            DEPOSIT_DATE\n",
              "IDCUSTOMER              \n",
              "5075649                0\n",
              "5176235                0\n",
              "5249140                0\n",
              "5300998                0\n",
              "5371454                0"
            ],
            "text/html": [
              "\n",
              "\n",
              "  <div id=\"df-a3d37e86-ba64-42d1-93d5-545384725df8\">\n",
              "    <div class=\"colab-df-container\">\n",
              "      <div>\n",
              "<style scoped>\n",
              "    .dataframe tbody tr th:only-of-type {\n",
              "        vertical-align: middle;\n",
              "    }\n",
              "\n",
              "    .dataframe tbody tr th {\n",
              "        vertical-align: top;\n",
              "    }\n",
              "\n",
              "    .dataframe thead th {\n",
              "        text-align: right;\n",
              "    }\n",
              "</style>\n",
              "<table border=\"1\" class=\"dataframe\">\n",
              "  <thead>\n",
              "    <tr style=\"text-align: right;\">\n",
              "      <th></th>\n",
              "      <th>DEPOSIT_DATE</th>\n",
              "    </tr>\n",
              "    <tr>\n",
              "      <th>IDCUSTOMER</th>\n",
              "      <th></th>\n",
              "    </tr>\n",
              "  </thead>\n",
              "  <tbody>\n",
              "    <tr>\n",
              "      <th>5075649</th>\n",
              "      <td>0</td>\n",
              "    </tr>\n",
              "    <tr>\n",
              "      <th>5176235</th>\n",
              "      <td>0</td>\n",
              "    </tr>\n",
              "    <tr>\n",
              "      <th>5249140</th>\n",
              "      <td>0</td>\n",
              "    </tr>\n",
              "    <tr>\n",
              "      <th>5300998</th>\n",
              "      <td>0</td>\n",
              "    </tr>\n",
              "    <tr>\n",
              "      <th>5371454</th>\n",
              "      <td>0</td>\n",
              "    </tr>\n",
              "  </tbody>\n",
              "</table>\n",
              "</div>\n",
              "      <button class=\"colab-df-convert\" onclick=\"convertToInteractive('df-a3d37e86-ba64-42d1-93d5-545384725df8')\"\n",
              "              title=\"Convert this dataframe to an interactive table.\"\n",
              "              style=\"display:none;\">\n",
              "\n",
              "  <svg xmlns=\"http://www.w3.org/2000/svg\" height=\"24px\"viewBox=\"0 0 24 24\"\n",
              "       width=\"24px\">\n",
              "    <path d=\"M0 0h24v24H0V0z\" fill=\"none\"/>\n",
              "    <path d=\"M18.56 5.44l.94 2.06.94-2.06 2.06-.94-2.06-.94-.94-2.06-.94 2.06-2.06.94zm-11 1L8.5 8.5l.94-2.06 2.06-.94-2.06-.94L8.5 2.5l-.94 2.06-2.06.94zm10 10l.94 2.06.94-2.06 2.06-.94-2.06-.94-.94-2.06-.94 2.06-2.06.94z\"/><path d=\"M17.41 7.96l-1.37-1.37c-.4-.4-.92-.59-1.43-.59-.52 0-1.04.2-1.43.59L10.3 9.45l-7.72 7.72c-.78.78-.78 2.05 0 2.83L4 21.41c.39.39.9.59 1.41.59.51 0 1.02-.2 1.41-.59l7.78-7.78 2.81-2.81c.8-.78.8-2.07 0-2.86zM5.41 20L4 18.59l7.72-7.72 1.47 1.35L5.41 20z\"/>\n",
              "  </svg>\n",
              "      </button>\n",
              "\n",
              "\n",
              "\n",
              "    <div id=\"df-9e11c198-1bdd-4e79-b551-f5b089808dd6\">\n",
              "      <button class=\"colab-df-quickchart\" onclick=\"quickchart('df-9e11c198-1bdd-4e79-b551-f5b089808dd6')\"\n",
              "              title=\"Suggest charts.\"\n",
              "              style=\"display:none;\">\n",
              "\n",
              "<svg xmlns=\"http://www.w3.org/2000/svg\" height=\"24px\"viewBox=\"0 0 24 24\"\n",
              "     width=\"24px\">\n",
              "    <g>\n",
              "        <path d=\"M19 3H5c-1.1 0-2 .9-2 2v14c0 1.1.9 2 2 2h14c1.1 0 2-.9 2-2V5c0-1.1-.9-2-2-2zM9 17H7v-7h2v7zm4 0h-2V7h2v10zm4 0h-2v-4h2v4z\"/>\n",
              "    </g>\n",
              "</svg>\n",
              "      </button>\n",
              "    </div>\n",
              "\n",
              "<style>\n",
              "  .colab-df-quickchart {\n",
              "    background-color: #E8F0FE;\n",
              "    border: none;\n",
              "    border-radius: 50%;\n",
              "    cursor: pointer;\n",
              "    display: none;\n",
              "    fill: #1967D2;\n",
              "    height: 32px;\n",
              "    padding: 0 0 0 0;\n",
              "    width: 32px;\n",
              "  }\n",
              "\n",
              "  .colab-df-quickchart:hover {\n",
              "    background-color: #E2EBFA;\n",
              "    box-shadow: 0px 1px 2px rgba(60, 64, 67, 0.3), 0px 1px 3px 1px rgba(60, 64, 67, 0.15);\n",
              "    fill: #174EA6;\n",
              "  }\n",
              "\n",
              "  [theme=dark] .colab-df-quickchart {\n",
              "    background-color: #3B4455;\n",
              "    fill: #D2E3FC;\n",
              "  }\n",
              "\n",
              "  [theme=dark] .colab-df-quickchart:hover {\n",
              "    background-color: #434B5C;\n",
              "    box-shadow: 0px 1px 3px 1px rgba(0, 0, 0, 0.15);\n",
              "    filter: drop-shadow(0px 1px 2px rgba(0, 0, 0, 0.3));\n",
              "    fill: #FFFFFF;\n",
              "  }\n",
              "</style>\n",
              "\n",
              "    <script>\n",
              "      async function quickchart(key) {\n",
              "        const containerElement = document.querySelector('#' + key);\n",
              "        const charts = await google.colab.kernel.invokeFunction(\n",
              "            'suggestCharts', [key], {});\n",
              "      }\n",
              "    </script>\n",
              "\n",
              "      <script>\n",
              "\n",
              "function displayQuickchartButton(domScope) {\n",
              "  let quickchartButtonEl =\n",
              "    domScope.querySelector('#df-9e11c198-1bdd-4e79-b551-f5b089808dd6 button.colab-df-quickchart');\n",
              "  quickchartButtonEl.style.display =\n",
              "    google.colab.kernel.accessAllowed ? 'block' : 'none';\n",
              "}\n",
              "\n",
              "        displayQuickchartButton(document);\n",
              "      </script>\n",
              "      <style>\n",
              "    .colab-df-container {\n",
              "      display:flex;\n",
              "      flex-wrap:wrap;\n",
              "      gap: 12px;\n",
              "    }\n",
              "\n",
              "    .colab-df-convert {\n",
              "      background-color: #E8F0FE;\n",
              "      border: none;\n",
              "      border-radius: 50%;\n",
              "      cursor: pointer;\n",
              "      display: none;\n",
              "      fill: #1967D2;\n",
              "      height: 32px;\n",
              "      padding: 0 0 0 0;\n",
              "      width: 32px;\n",
              "    }\n",
              "\n",
              "    .colab-df-convert:hover {\n",
              "      background-color: #E2EBFA;\n",
              "      box-shadow: 0px 1px 2px rgba(60, 64, 67, 0.3), 0px 1px 3px 1px rgba(60, 64, 67, 0.15);\n",
              "      fill: #174EA6;\n",
              "    }\n",
              "\n",
              "    [theme=dark] .colab-df-convert {\n",
              "      background-color: #3B4455;\n",
              "      fill: #D2E3FC;\n",
              "    }\n",
              "\n",
              "    [theme=dark] .colab-df-convert:hover {\n",
              "      background-color: #434B5C;\n",
              "      box-shadow: 0px 1px 3px 1px rgba(0, 0, 0, 0.15);\n",
              "      filter: drop-shadow(0px 1px 2px rgba(0, 0, 0, 0.3));\n",
              "      fill: #FFFFFF;\n",
              "    }\n",
              "  </style>\n",
              "\n",
              "      <script>\n",
              "        const buttonEl =\n",
              "          document.querySelector('#df-a3d37e86-ba64-42d1-93d5-545384725df8 button.colab-df-convert');\n",
              "        buttonEl.style.display =\n",
              "          google.colab.kernel.accessAllowed ? 'block' : 'none';\n",
              "\n",
              "        async function convertToInteractive(key) {\n",
              "          const element = document.querySelector('#df-a3d37e86-ba64-42d1-93d5-545384725df8');\n",
              "          const dataTable =\n",
              "            await google.colab.kernel.invokeFunction('convertToInteractive',\n",
              "                                                     [key], {});\n",
              "          if (!dataTable) return;\n",
              "\n",
              "          const docLinkHtml = 'Like what you see? Visit the ' +\n",
              "            '<a target=\"_blank\" href=https://colab.research.google.com/notebooks/data_table.ipynb>data table notebook</a>'\n",
              "            + ' to learn more about interactive tables.';\n",
              "          element.innerHTML = '';\n",
              "          dataTable['output_type'] = 'display_data';\n",
              "          await google.colab.output.renderOutput(dataTable, element);\n",
              "          const docLink = document.createElement('div');\n",
              "          docLink.innerHTML = docLinkHtml;\n",
              "          element.appendChild(docLink);\n",
              "        }\n",
              "      </script>\n",
              "    </div>\n",
              "  </div>\n"
            ]
          },
          "metadata": {},
          "execution_count": 18
        }
      ]
    },
    {
      "cell_type": "code",
      "source": [
        "Turkey_data.head()"
      ],
      "metadata": {
        "colab": {
          "base_uri": "https://localhost:8080/",
          "height": 206
        },
        "id": "yUw0W3mhgl8s",
        "outputId": "1c9413fb-e579-41cf-e086-4c7b6d635a3b"
      },
      "execution_count": null,
      "outputs": [
        {
          "output_type": "execute_result",
          "data": {
            "text/plain": [
              "   IDCUSTOMER GENDER       CITY  FIRST_DEPOSIT_AMOUNT REGISTRATION_DATE  \\\n",
              "0     5075649      M     ankara                 100.0        2009-01-10   \n",
              "1     5176235      M   elazÄ±ÄŸ                 400.0        2009-03-01   \n",
              "2     5249140      M      izmir                 200.0        2009-04-06   \n",
              "3     5300998      M  ÃœskÃ¼dar                 100.0        2009-05-02   \n",
              "4     5371454      M    sakarya                 880.0        2009-06-07   \n",
              "\n",
              "  DEPOSIT_DATE Customer_Lifetime  \n",
              "0   2022-06-05         4894 days  \n",
              "1   2022-02-11         4730 days  \n",
              "2   2022-05-02         4774 days  \n",
              "3   2022-02-11         4668 days  \n",
              "4   2022-05-29         4739 days  "
            ],
            "text/html": [
              "\n",
              "\n",
              "  <div id=\"df-709d40da-b91f-4d58-9b19-ca224a54fe8a\">\n",
              "    <div class=\"colab-df-container\">\n",
              "      <div>\n",
              "<style scoped>\n",
              "    .dataframe tbody tr th:only-of-type {\n",
              "        vertical-align: middle;\n",
              "    }\n",
              "\n",
              "    .dataframe tbody tr th {\n",
              "        vertical-align: top;\n",
              "    }\n",
              "\n",
              "    .dataframe thead th {\n",
              "        text-align: right;\n",
              "    }\n",
              "</style>\n",
              "<table border=\"1\" class=\"dataframe\">\n",
              "  <thead>\n",
              "    <tr style=\"text-align: right;\">\n",
              "      <th></th>\n",
              "      <th>IDCUSTOMER</th>\n",
              "      <th>GENDER</th>\n",
              "      <th>CITY</th>\n",
              "      <th>FIRST_DEPOSIT_AMOUNT</th>\n",
              "      <th>REGISTRATION_DATE</th>\n",
              "      <th>DEPOSIT_DATE</th>\n",
              "      <th>Customer_Lifetime</th>\n",
              "    </tr>\n",
              "  </thead>\n",
              "  <tbody>\n",
              "    <tr>\n",
              "      <th>0</th>\n",
              "      <td>5075649</td>\n",
              "      <td>M</td>\n",
              "      <td>ankara</td>\n",
              "      <td>100.0</td>\n",
              "      <td>2009-01-10</td>\n",
              "      <td>2022-06-05</td>\n",
              "      <td>4894 days</td>\n",
              "    </tr>\n",
              "    <tr>\n",
              "      <th>1</th>\n",
              "      <td>5176235</td>\n",
              "      <td>M</td>\n",
              "      <td>elazÄ±ÄŸ</td>\n",
              "      <td>400.0</td>\n",
              "      <td>2009-03-01</td>\n",
              "      <td>2022-02-11</td>\n",
              "      <td>4730 days</td>\n",
              "    </tr>\n",
              "    <tr>\n",
              "      <th>2</th>\n",
              "      <td>5249140</td>\n",
              "      <td>M</td>\n",
              "      <td>izmir</td>\n",
              "      <td>200.0</td>\n",
              "      <td>2009-04-06</td>\n",
              "      <td>2022-05-02</td>\n",
              "      <td>4774 days</td>\n",
              "    </tr>\n",
              "    <tr>\n",
              "      <th>3</th>\n",
              "      <td>5300998</td>\n",
              "      <td>M</td>\n",
              "      <td>ÃœskÃ¼dar</td>\n",
              "      <td>100.0</td>\n",
              "      <td>2009-05-02</td>\n",
              "      <td>2022-02-11</td>\n",
              "      <td>4668 days</td>\n",
              "    </tr>\n",
              "    <tr>\n",
              "      <th>4</th>\n",
              "      <td>5371454</td>\n",
              "      <td>M</td>\n",
              "      <td>sakarya</td>\n",
              "      <td>880.0</td>\n",
              "      <td>2009-06-07</td>\n",
              "      <td>2022-05-29</td>\n",
              "      <td>4739 days</td>\n",
              "    </tr>\n",
              "  </tbody>\n",
              "</table>\n",
              "</div>\n",
              "      <button class=\"colab-df-convert\" onclick=\"convertToInteractive('df-709d40da-b91f-4d58-9b19-ca224a54fe8a')\"\n",
              "              title=\"Convert this dataframe to an interactive table.\"\n",
              "              style=\"display:none;\">\n",
              "\n",
              "  <svg xmlns=\"http://www.w3.org/2000/svg\" height=\"24px\"viewBox=\"0 0 24 24\"\n",
              "       width=\"24px\">\n",
              "    <path d=\"M0 0h24v24H0V0z\" fill=\"none\"/>\n",
              "    <path d=\"M18.56 5.44l.94 2.06.94-2.06 2.06-.94-2.06-.94-.94-2.06-.94 2.06-2.06.94zm-11 1L8.5 8.5l.94-2.06 2.06-.94-2.06-.94L8.5 2.5l-.94 2.06-2.06.94zm10 10l.94 2.06.94-2.06 2.06-.94-2.06-.94-.94-2.06-.94 2.06-2.06.94z\"/><path d=\"M17.41 7.96l-1.37-1.37c-.4-.4-.92-.59-1.43-.59-.52 0-1.04.2-1.43.59L10.3 9.45l-7.72 7.72c-.78.78-.78 2.05 0 2.83L4 21.41c.39.39.9.59 1.41.59.51 0 1.02-.2 1.41-.59l7.78-7.78 2.81-2.81c.8-.78.8-2.07 0-2.86zM5.41 20L4 18.59l7.72-7.72 1.47 1.35L5.41 20z\"/>\n",
              "  </svg>\n",
              "      </button>\n",
              "\n",
              "\n",
              "\n",
              "    <div id=\"df-c8841da1-5b64-4937-997a-5d1fefe9038a\">\n",
              "      <button class=\"colab-df-quickchart\" onclick=\"quickchart('df-c8841da1-5b64-4937-997a-5d1fefe9038a')\"\n",
              "              title=\"Suggest charts.\"\n",
              "              style=\"display:none;\">\n",
              "\n",
              "<svg xmlns=\"http://www.w3.org/2000/svg\" height=\"24px\"viewBox=\"0 0 24 24\"\n",
              "     width=\"24px\">\n",
              "    <g>\n",
              "        <path d=\"M19 3H5c-1.1 0-2 .9-2 2v14c0 1.1.9 2 2 2h14c1.1 0 2-.9 2-2V5c0-1.1-.9-2-2-2zM9 17H7v-7h2v7zm4 0h-2V7h2v10zm4 0h-2v-4h2v4z\"/>\n",
              "    </g>\n",
              "</svg>\n",
              "      </button>\n",
              "    </div>\n",
              "\n",
              "<style>\n",
              "  .colab-df-quickchart {\n",
              "    background-color: #E8F0FE;\n",
              "    border: none;\n",
              "    border-radius: 50%;\n",
              "    cursor: pointer;\n",
              "    display: none;\n",
              "    fill: #1967D2;\n",
              "    height: 32px;\n",
              "    padding: 0 0 0 0;\n",
              "    width: 32px;\n",
              "  }\n",
              "\n",
              "  .colab-df-quickchart:hover {\n",
              "    background-color: #E2EBFA;\n",
              "    box-shadow: 0px 1px 2px rgba(60, 64, 67, 0.3), 0px 1px 3px 1px rgba(60, 64, 67, 0.15);\n",
              "    fill: #174EA6;\n",
              "  }\n",
              "\n",
              "  [theme=dark] .colab-df-quickchart {\n",
              "    background-color: #3B4455;\n",
              "    fill: #D2E3FC;\n",
              "  }\n",
              "\n",
              "  [theme=dark] .colab-df-quickchart:hover {\n",
              "    background-color: #434B5C;\n",
              "    box-shadow: 0px 1px 3px 1px rgba(0, 0, 0, 0.15);\n",
              "    filter: drop-shadow(0px 1px 2px rgba(0, 0, 0, 0.3));\n",
              "    fill: #FFFFFF;\n",
              "  }\n",
              "</style>\n",
              "\n",
              "    <script>\n",
              "      async function quickchart(key) {\n",
              "        const containerElement = document.querySelector('#' + key);\n",
              "        const charts = await google.colab.kernel.invokeFunction(\n",
              "            'suggestCharts', [key], {});\n",
              "      }\n",
              "    </script>\n",
              "\n",
              "      <script>\n",
              "\n",
              "function displayQuickchartButton(domScope) {\n",
              "  let quickchartButtonEl =\n",
              "    domScope.querySelector('#df-c8841da1-5b64-4937-997a-5d1fefe9038a button.colab-df-quickchart');\n",
              "  quickchartButtonEl.style.display =\n",
              "    google.colab.kernel.accessAllowed ? 'block' : 'none';\n",
              "}\n",
              "\n",
              "        displayQuickchartButton(document);\n",
              "      </script>\n",
              "      <style>\n",
              "    .colab-df-container {\n",
              "      display:flex;\n",
              "      flex-wrap:wrap;\n",
              "      gap: 12px;\n",
              "    }\n",
              "\n",
              "    .colab-df-convert {\n",
              "      background-color: #E8F0FE;\n",
              "      border: none;\n",
              "      border-radius: 50%;\n",
              "      cursor: pointer;\n",
              "      display: none;\n",
              "      fill: #1967D2;\n",
              "      height: 32px;\n",
              "      padding: 0 0 0 0;\n",
              "      width: 32px;\n",
              "    }\n",
              "\n",
              "    .colab-df-convert:hover {\n",
              "      background-color: #E2EBFA;\n",
              "      box-shadow: 0px 1px 2px rgba(60, 64, 67, 0.3), 0px 1px 3px 1px rgba(60, 64, 67, 0.15);\n",
              "      fill: #174EA6;\n",
              "    }\n",
              "\n",
              "    [theme=dark] .colab-df-convert {\n",
              "      background-color: #3B4455;\n",
              "      fill: #D2E3FC;\n",
              "    }\n",
              "\n",
              "    [theme=dark] .colab-df-convert:hover {\n",
              "      background-color: #434B5C;\n",
              "      box-shadow: 0px 1px 3px 1px rgba(0, 0, 0, 0.15);\n",
              "      filter: drop-shadow(0px 1px 2px rgba(0, 0, 0, 0.3));\n",
              "      fill: #FFFFFF;\n",
              "    }\n",
              "  </style>\n",
              "\n",
              "      <script>\n",
              "        const buttonEl =\n",
              "          document.querySelector('#df-709d40da-b91f-4d58-9b19-ca224a54fe8a button.colab-df-convert');\n",
              "        buttonEl.style.display =\n",
              "          google.colab.kernel.accessAllowed ? 'block' : 'none';\n",
              "\n",
              "        async function convertToInteractive(key) {\n",
              "          const element = document.querySelector('#df-709d40da-b91f-4d58-9b19-ca224a54fe8a');\n",
              "          const dataTable =\n",
              "            await google.colab.kernel.invokeFunction('convertToInteractive',\n",
              "                                                     [key], {});\n",
              "          if (!dataTable) return;\n",
              "\n",
              "          const docLinkHtml = 'Like what you see? Visit the ' +\n",
              "            '<a target=\"_blank\" href=https://colab.research.google.com/notebooks/data_table.ipynb>data table notebook</a>'\n",
              "            + ' to learn more about interactive tables.';\n",
              "          element.innerHTML = '';\n",
              "          dataTable['output_type'] = 'display_data';\n",
              "          await google.colab.output.renderOutput(dataTable, element);\n",
              "          const docLink = document.createElement('div');\n",
              "          docLink.innerHTML = docLinkHtml;\n",
              "          element.appendChild(docLink);\n",
              "        }\n",
              "      </script>\n",
              "    </div>\n",
              "  </div>\n"
            ]
          },
          "metadata": {},
          "execution_count": 19
        }
      ]
    },
    {
      "cell_type": "markdown",
      "source": [
        "UNIQUE"
      ],
      "metadata": {
        "id": "jwl3B9rUidtT"
      }
    },
    {
      "cell_type": "code",
      "source": [
        "unique_customers = data.groupby(['CITY', 'COUNTRY'])['IDCUSTOMER'].nunique()"
      ],
      "metadata": {
        "id": "8tYECpvtgl6f"
      },
      "execution_count": null,
      "outputs": []
    },
    {
      "cell_type": "code",
      "source": [
        "highest_customers = unique_customers.idxmax()"
      ],
      "metadata": {
        "id": "CdenxZLlgl3x"
      },
      "execution_count": null,
      "outputs": []
    },
    {
      "cell_type": "code",
      "source": [
        "print(\"City with the highest number of unique customers:\", highest_customers[0])\n",
        "print(\"Country with the highest number of unique customers:\", highest_customers[1])"
      ],
      "metadata": {
        "colab": {
          "base_uri": "https://localhost:8080/"
        },
        "id": "J-fJP0IYgl1s",
        "outputId": "b83a555e-cc79-4d07-cecf-b8914f1a1d1e"
      },
      "execution_count": null,
      "outputs": [
        {
          "output_type": "stream",
          "name": "stdout",
          "text": [
            "City with the highest number of unique customers: Ä°stanbul\n",
            "Country with the highest number of unique customers: Turkey\n"
          ]
        }
      ]
    },
    {
      "cell_type": "markdown",
      "source": [
        "UUNIQUE COUNT"
      ],
      "metadata": {
        "id": "Ho3w5vmYit9g"
      }
    },
    {
      "cell_type": "code",
      "source": [
        "unique_players = data.groupby('COUNTRY')['IDCUSTOMER'].nunique()"
      ],
      "metadata": {
        "id": "SvYibRiAglzQ"
      },
      "execution_count": null,
      "outputs": []
    },
    {
      "cell_type": "code",
      "source": [
        "sorted_players = unique_players.sort_values(ascending=False)"
      ],
      "metadata": {
        "id": "1fG-rsiHglw6"
      },
      "execution_count": null,
      "outputs": []
    },
    {
      "cell_type": "code",
      "source": [
        "print(sorted_players)"
      ],
      "metadata": {
        "colab": {
          "base_uri": "https://localhost:8080/"
        },
        "id": "Rc86Cs8bglur",
        "outputId": "6b295a8d-2b01-457f-d4a3-0f653fe95fd1"
      },
      "execution_count": null,
      "outputs": [
        {
          "output_type": "stream",
          "name": "stdout",
          "text": [
            "COUNTRY\n",
            "Turkey    22065\n",
            "Name: IDCUSTOMER, dtype: int64\n"
          ]
        }
      ]
    },
    {
      "cell_type": "code",
      "source": [
        "target_city = 'Kayseri'"
      ],
      "metadata": {
        "id": "wWqqiJ8Pglrn"
      },
      "execution_count": null,
      "outputs": []
    },
    {
      "cell_type": "code",
      "source": [
        "city_data = data[data['CITY'] == target_city]"
      ],
      "metadata": {
        "id": "RbstBeRRglpm"
      },
      "execution_count": null,
      "outputs": []
    },
    {
      "cell_type": "code",
      "source": [
        "unique_players_count = city_data['IDCUSTOMER'].nunique()"
      ],
      "metadata": {
        "id": "kR2N1VcOglnR"
      },
      "execution_count": null,
      "outputs": []
    },
    {
      "cell_type": "code",
      "source": [
        "print(\"Number of unique players in\", target_city, \":\", unique_players_count)"
      ],
      "metadata": {
        "colab": {
          "base_uri": "https://localhost:8080/"
        },
        "id": "xDLfqrbVglk6",
        "outputId": "b1055c39-1af2-42da-d6c0-9538fd474031"
      },
      "execution_count": null,
      "outputs": [
        {
          "output_type": "stream",
          "name": "stdout",
          "text": [
            "Number of unique players in Kayseri : 369\n"
          ]
        }
      ]
    },
    {
      "cell_type": "markdown",
      "source": [
        "AVERAGE DEPOSIT"
      ],
      "metadata": {
        "id": "vwhQcJ--jGCi"
      }
    },
    {
      "cell_type": "code",
      "source": [
        "avg_deposit = data.groupby('CITY')['FIRST_DEPOSIT_AMOUNT'].mean()"
      ],
      "metadata": {
        "id": "HORo1cj1gli7"
      },
      "execution_count": null,
      "outputs": []
    },
    {
      "cell_type": "code",
      "source": [
        "sorted_avg = avg_deposit.sort_values(ascending=False)"
      ],
      "metadata": {
        "id": "pe7ZZ5aaglhC"
      },
      "execution_count": null,
      "outputs": []
    },
    {
      "cell_type": "code",
      "source": [
        "third_city = sorted_avg.index[2]"
      ],
      "metadata": {
        "id": "DxpMnGqngle6"
      },
      "execution_count": null,
      "outputs": []
    },
    {
      "cell_type": "code",
      "source": [
        "third_avg_amount = sorted_avg.iloc[2]"
      ],
      "metadata": {
        "id": "DYXvmZwoglbd"
      },
      "execution_count": null,
      "outputs": []
    },
    {
      "cell_type": "code",
      "source": [
        "print(\"City with the third-highest average deposit:\", third_city)\n",
        "print(\"Average deposit amount:\", third_avg_amount)"
      ],
      "metadata": {
        "colab": {
          "base_uri": "https://localhost:8080/"
        },
        "id": "1VQWmoglglZd",
        "outputId": "6f52908a-1f14-4d79-9497-45da0f2ea094"
      },
      "execution_count": null,
      "outputs": [
        {
          "output_type": "stream",
          "name": "stdout",
          "text": [
            "City with the third-highest average deposit: sarÄ±Ã§am/Adana\n",
            "Average deposit amount: 9000.0\n"
          ]
        }
      ]
    },
    {
      "cell_type": "markdown",
      "source": [
        "GRAPH"
      ],
      "metadata": {
        "id": "MBnREpbPjaDH"
      }
    },
    {
      "cell_type": "code",
      "source": [
        "unique_customers = data.groupby('CITY')['IDCUSTOMER'].nunique()"
      ],
      "metadata": {
        "id": "jSxqFlk-glWp"
      },
      "execution_count": null,
      "outputs": []
    },
    {
      "cell_type": "code",
      "source": [
        "sorted_customers = unique_customers.sort_values(ascending=False)"
      ],
      "metadata": {
        "id": "MMnuhzy3glUi"
      },
      "execution_count": null,
      "outputs": []
    },
    {
      "cell_type": "code",
      "source": [
        "top_40_cities = sorted_customers.head(40)"
      ],
      "metadata": {
        "id": "MujY1waNglSM"
      },
      "execution_count": null,
      "outputs": []
    },
    {
      "cell_type": "code",
      "source": [
        "plt.figure(figsize=(13, 7))\n",
        "plt.bar(top_40_cities.index, top_40_cities.values)\n",
        "plt.xlabel('CITY')\n",
        "plt.ylabel('Unique Customer Count')\n",
        "plt.title('Top 40 Cities by Unique Customer Count')\n",
        "plt.xticks(rotation=45)\n",
        "plt.tight_layout()\n",
        "plt.show()"
      ],
      "metadata": {
        "colab": {
          "base_uri": "https://localhost:8080/",
          "height": 613
        },
        "id": "OWHSNpcXjeM6",
        "outputId": "102a0016-1874-4b54-b2be-0f65ad88572d"
      },
      "execution_count": null,
      "outputs": [
        {
          "output_type": "display_data",
          "data": {
            "text/plain": [
              "<Figure size 1300x700 with 1 Axes>"
            ],
            "image/png": "[encoded data removed]"
          },
          "metadata": {}
        }
      ]
    },
    {
      "cell_type": "markdown",
      "source": [
        "CONVERSIONAL RATE IN 2022"
      ],
      "metadata": {
        "id": "bCxX4ovhkBbt"
      }
    },
    {
      "cell_type": "code",
      "source": [
        "data['YearMonth'] = pd.to_datetime(data['DEPOSIT_DATE']).dt.to_period('M')\n"
      ],
      "metadata": {
        "id": "11bHMBayjeJi"
      },
      "execution_count": null,
      "outputs": []
    },
    {
      "cell_type": "code",
      "source": [
        "june_2022_data = data[data['YearMonth'] == '2022-06']"
      ],
      "metadata": {
        "id": "hI1V7ha2jeG-"
      },
      "execution_count": null,
      "outputs": []
    },
    {
      "cell_type": "code",
      "source": [
        "unique_first_deposits = june_2022_data['FIRST_DEPOSIT_AMOUNT'].nunique()\n",
        "unique_registrations = june_2022_data['REGISTRATION_DATE'].nunique()"
      ],
      "metadata": {
        "id": "CtNPefCvjeEL"
      },
      "execution_count": null,
      "outputs": []
    },
    {
      "cell_type": "code",
      "source": [
        "conversion_rate = (unique_first_deposits / unique_registrations) * 100"
      ],
      "metadata": {
        "id": "pgd5j_3pjeCI"
      },
      "execution_count": null,
      "outputs": []
    },
    {
      "cell_type": "code",
      "source": [
        "conversion_rate = round(conversion_rate, 2)"
      ],
      "metadata": {
        "id": "3x9xRYzQjd_w"
      },
      "execution_count": null,
      "outputs": []
    },
    {
      "cell_type": "code",
      "source": [
        "print(f\"The conversion rate in June 2022 is: {conversion_rate}%\")"
      ],
      "metadata": {
        "colab": {
          "base_uri": "https://localhost:8080/"
        },
        "id": "dCjP7ilojd9K",
        "outputId": "eaaf316c-631b-480f-e0ad-ccb07fc7654b"
      },
      "execution_count": null,
      "outputs": [
        {
          "output_type": "stream",
          "name": "stdout",
          "text": [
            "The conversion rate in June 2022 is: 87.7%\n"
          ]
        }
      ]
    },
    {
      "cell_type": "markdown",
      "source": [
        "WEEK DAY"
      ],
      "metadata": {
        "id": "ZKxmpPiLkiRW"
      }
    },
    {
      "cell_type": "code",
      "source": [
        "df_ft = pd.read_csv('assignment_python.csv')"
      ],
      "metadata": {
        "id": "Pg2ZdZS9jd65"
      },
      "execution_count": null,
      "outputs": []
    },
    {
      "cell_type": "code",
      "source": [
        "df_ft['DEPOSIT_DATE'] = pd.to_datetime(df_ft['DEPOSIT_DATE'])"
      ],
      "metadata": {
        "id": "eTkHieiWjd5A"
      },
      "execution_count": null,
      "outputs": []
    },
    {
      "cell_type": "code",
      "source": [
        "df_ft['Week of Day'] = df_ft['DEPOSIT_DATE'].dt.day_name()"
      ],
      "metadata": {
        "id": "YK1qjOO8jd2G"
      },
      "execution_count": null,
      "outputs": []
    },
    {
      "cell_type": "code",
      "source": [
        "statistics = df_ft.describe()"
      ],
      "metadata": {
        "id": "AtGmb_FGjdzu"
      },
      "execution_count": null,
      "outputs": []
    },
    {
      "cell_type": "code",
      "source": [
        "bins = [0, 500, 1000, 1500, 2000, 2500]"
      ],
      "metadata": {
        "id": "oVHvq_gIjdxo"
      },
      "execution_count": null,
      "outputs": []
    },
    {
      "cell_type": "code",
      "source": [
        "labels = ['0-500', '500-1000', '1000-1500', '1500-2000', '2000-2500']\n"
      ],
      "metadata": {
        "id": "Klk82q_Mjdu6"
      },
      "execution_count": null,
      "outputs": []
    },
    {
      "cell_type": "code",
      "source": [
        "df_ft['Deposit Amount Bins'] = pd.cut(df_ft['FIRST_DEPOSIT_AMOUNT'], bins=bins, labels=labels)"
      ],
      "metadata": {
        "id": "AjtBmspwjdsp"
      },
      "execution_count": null,
      "outputs": []
    },
    {
      "cell_type": "code",
      "source": [
        "df_ft.head()"
      ],
      "metadata": {
        "colab": {
          "base_uri": "https://localhost:8080/",
          "height": 206
        },
        "id": "YHIFq3Opjdp4",
        "outputId": "b7585b22-0cbe-46d4-bcd3-27e5434970e6"
      },
      "execution_count": null,
      "outputs": [
        {
          "output_type": "execute_result",
          "data": {
            "text/plain": [
              "   IDCUSTOMER GENDER       CITY COUNTRY  FIRST_DEPOSIT_AMOUNT  \\\n",
              "0     5075649      M     ankara  Turkey                 100.0   \n",
              "1     5176235      M   elazÄ±ÄŸ  Turkey                 400.0   \n",
              "2     5249140      M      izmir  Turkey                 200.0   \n",
              "3     5300998      M  ÃœskÃ¼dar  Turkey                 100.0   \n",
              "4     5371454      M    sakarya  Turkey                 880.0   \n",
              "\n",
              "  REGISTRATION_DATE DEPOSIT_DATE Week of Day Deposit Amount Bins  \n",
              "0        2009-01-10   2022-06-05      Sunday               0-500  \n",
              "1        2009-03-01   2022-02-11      Friday               0-500  \n",
              "2        2009-04-06   2022-05-02      Monday               0-500  \n",
              "3        2009-05-02   2022-02-11      Friday               0-500  \n",
              "4        2009-06-07   2022-05-29      Sunday            500-1000  "
            ],
            "text/html": [
              "\n",
              "\n",
              "  <div id=\"df-5a612167-793d-44d4-a9f3-b7578e8e269f\">\n",
              "    <div class=\"colab-df-container\">\n",
              "      <div>\n",
              "<style scoped>\n",
              "    .dataframe tbody tr th:only-of-type {\n",
              "        vertical-align: middle;\n",
              "    }\n",
              "\n",
              "    .dataframe tbody tr th {\n",
              "        vertical-align: top;\n",
              "    }\n",
              "\n",
              "    .dataframe thead th {\n",
              "        text-align: right;\n",
              "    }\n",
              "</style>\n",
              "<table border=\"1\" class=\"dataframe\">\n",
              "  <thead>\n",
              "    <tr style=\"text-align: right;\">\n",
              "      <th></th>\n",
              "      <th>IDCUSTOMER</th>\n",
              "      <th>GENDER</th>\n",
              "      <th>CITY</th>\n",
              "      <th>COUNTRY</th>\n",
              "      <th>FIRST_DEPOSIT_AMOUNT</th>\n",
              "      <th>REGISTRATION_DATE</th>\n",
              "      <th>DEPOSIT_DATE</th>\n",
              "      <th>Week of Day</th>\n",
              "      <th>Deposit Amount Bins</th>\n",
              "    </tr>\n",
              "  </thead>\n",
              "  <tbody>\n",
              "    <tr>\n",
              "      <th>0</th>\n",
              "      <td>5075649</td>\n",
              "      <td>M</td>\n",
              "      <td>ankara</td>\n",
              "      <td>Turkey</td>\n",
              "      <td>100.0</td>\n",
              "      <td>2009-01-10</td>\n",
              "      <td>2022-06-05</td>\n",
              "      <td>Sunday</td>\n",
              "      <td>0-500</td>\n",
              "    </tr>\n",
              "    <tr>\n",
              "      <th>1</th>\n",
              "      <td>5176235</td>\n",
              "      <td>M</td>\n",
              "      <td>elazÄ±ÄŸ</td>\n",
              "      <td>Turkey</td>\n",
              "      <td>400.0</td>\n",
              "      <td>2009-03-01</td>\n",
              "      <td>2022-02-11</td>\n",
              "      <td>Friday</td>\n",
              "      <td>0-500</td>\n",
              "    </tr>\n",
              "    <tr>\n",
              "      <th>2</th>\n",
              "      <td>5249140</td>\n",
              "      <td>M</td>\n",
              "      <td>izmir</td>\n",
              "      <td>Turkey</td>\n",
              "      <td>200.0</td>\n",
              "      <td>2009-04-06</td>\n",
              "      <td>2022-05-02</td>\n",
              "      <td>Monday</td>\n",
              "      <td>0-500</td>\n",
              "    </tr>\n",
              "    <tr>\n",
              "      <th>3</th>\n",
              "      <td>5300998</td>\n",
              "      <td>M</td>\n",
              "      <td>ÃœskÃ¼dar</td>\n",
              "      <td>Turkey</td>\n",
              "      <td>100.0</td>\n",
              "      <td>2009-05-02</td>\n",
              "      <td>2022-02-11</td>\n",
              "      <td>Friday</td>\n",
              "      <td>0-500</td>\n",
              "    </tr>\n",
              "    <tr>\n",
              "      <th>4</th>\n",
              "      <td>5371454</td>\n",
              "      <td>M</td>\n",
              "      <td>sakarya</td>\n",
              "      <td>Turkey</td>\n",
              "      <td>880.0</td>\n",
              "      <td>2009-06-07</td>\n",
              "      <td>2022-05-29</td>\n",
              "      <td>Sunday</td>\n",
              "      <td>500-1000</td>\n",
              "    </tr>\n",
              "  </tbody>\n",
              "</table>\n",
              "</div>\n",
              "      <button class=\"colab-df-convert\" onclick=\"convertToInteractive('df-5a612167-793d-44d4-a9f3-b7578e8e269f')\"\n",
              "              title=\"Convert this dataframe to an interactive table.\"\n",
              "              style=\"display:none;\">\n",
              "\n",
              "  <svg xmlns=\"http://www.w3.org/2000/svg\" height=\"24px\"viewBox=\"0 0 24 24\"\n",
              "       width=\"24px\">\n",
              "    <path d=\"M0 0h24v24H0V0z\" fill=\"none\"/>\n",
              "    <path d=\"M18.56 5.44l.94 2.06.94-2.06 2.06-.94-2.06-.94-.94-2.06-.94 2.06-2.06.94zm-11 1L8.5 8.5l.94-2.06 2.06-.94-2.06-.94L8.5 2.5l-.94 2.06-2.06.94zm10 10l.94 2.06.94-2.06 2.06-.94-2.06-.94-.94-2.06-.94 2.06-2.06.94z\"/><path d=\"M17.41 7.96l-1.37-1.37c-.4-.4-.92-.59-1.43-.59-.52 0-1.04.2-1.43.59L10.3 9.45l-7.72 7.72c-.78.78-.78 2.05 0 2.83L4 21.41c.39.39.9.59 1.41.59.51 0 1.02-.2 1.41-.59l7.78-7.78 2.81-2.81c.8-.78.8-2.07 0-2.86zM5.41 20L4 18.59l7.72-7.72 1.47 1.35L5.41 20z\"/>\n",
              "  </svg>\n",
              "      </button>\n",
              "\n",
              "\n",
              "\n",
              "    <div id=\"df-46b97dc2-3b52-4d23-bb60-5170b8608ab9\">\n",
              "      <button class=\"colab-df-quickchart\" onclick=\"quickchart('df-46b97dc2-3b52-4d23-bb60-5170b8608ab9')\"\n",
              "              title=\"Suggest charts.\"\n",
              "              style=\"display:none;\">\n",
              "\n",
              "<svg xmlns=\"http://www.w3.org/2000/svg\" height=\"24px\"viewBox=\"0 0 24 24\"\n",
              "     width=\"24px\">\n",
              "    <g>\n",
              "        <path d=\"M19 3H5c-1.1 0-2 .9-2 2v14c0 1.1.9 2 2 2h14c1.1 0 2-.9 2-2V5c0-1.1-.9-2-2-2zM9 17H7v-7h2v7zm4 0h-2V7h2v10zm4 0h-2v-4h2v4z\"/>\n",
              "    </g>\n",
              "</svg>\n",
              "      </button>\n",
              "    </div>\n",
              "\n",
              "<style>\n",
              "  .colab-df-quickchart {\n",
              "    background-color: #E8F0FE;\n",
              "    border: none;\n",
              "    border-radius: 50%;\n",
              "    cursor: pointer;\n",
              "    display: none;\n",
              "    fill: #1967D2;\n",
              "    height: 32px;\n",
              "    padding: 0 0 0 0;\n",
              "    width: 32px;\n",
              "  }\n",
              "\n",
              "  .colab-df-quickchart:hover {\n",
              "    background-color: #E2EBFA;\n",
              "    box-shadow: 0px 1px 2px rgba(60, 64, 67, 0.3), 0px 1px 3px 1px rgba(60, 64, 67, 0.15);\n",
              "    fill: #174EA6;\n",
              "  }\n",
              "\n",
              "  [theme=dark] .colab-df-quickchart {\n",
              "    background-color: #3B4455;\n",
              "    fill: #D2E3FC;\n",
              "  }\n",
              "\n",
              "  [theme=dark] .colab-df-quickchart:hover {\n",
              "    background-color: #434B5C;\n",
              "    box-shadow: 0px 1px 3px 1px rgba(0, 0, 0, 0.15);\n",
              "    filter: drop-shadow(0px 1px 2px rgba(0, 0, 0, 0.3));\n",
              "    fill: #FFFFFF;\n",
              "  }\n",
              "</style>\n",
              "\n",
              "    <script>\n",
              "      async function quickchart(key) {\n",
              "        const containerElement = document.querySelector('#' + key);\n",
              "        const charts = await google.colab.kernel.invokeFunction(\n",
              "            'suggestCharts', [key], {});\n",
              "      }\n",
              "    </script>\n",
              "\n",
              "      <script>\n",
              "\n",
              "function displayQuickchartButton(domScope) {\n",
              "  let quickchartButtonEl =\n",
              "    domScope.querySelector('#df-46b97dc2-3b52-4d23-bb60-5170b8608ab9 button.colab-df-quickchart');\n",
              "  quickchartButtonEl.style.display =\n",
              "    google.colab.kernel.accessAllowed ? 'block' : 'none';\n",
              "}\n",
              "\n",
              "        displayQuickchartButton(document);\n",
              "      </script>\n",
              "      <style>\n",
              "    .colab-df-container {\n",
              "      display:flex;\n",
              "      flex-wrap:wrap;\n",
              "      gap: 12px;\n",
              "    }\n",
              "\n",
              "    .colab-df-convert {\n",
              "      background-color: #E8F0FE;\n",
              "      border: none;\n",
              "      border-radius: 50%;\n",
              "      cursor: pointer;\n",
              "      display: none;\n",
              "      fill: #1967D2;\n",
              "      height: 32px;\n",
              "      padding: 0 0 0 0;\n",
              "      width: 32px;\n",
              "    }\n",
              "\n",
              "    .colab-df-convert:hover {\n",
              "      background-color: #E2EBFA;\n",
              "      box-shadow: 0px 1px 2px rgba(60, 64, 67, 0.3), 0px 1px 3px 1px rgba(60, 64, 67, 0.15);\n",
              "      fill: #174EA6;\n",
              "    }\n",
              "\n",
              "    [theme=dark] .colab-df-convert {\n",
              "      background-color: #3B4455;\n",
              "      fill: #D2E3FC;\n",
              "    }\n",
              "\n",
              "    [theme=dark] .colab-df-convert:hover {\n",
              "      background-color: #434B5C;\n",
              "      box-shadow: 0px 1px 3px 1px rgba(0, 0, 0, 0.15);\n",
              "      filter: drop-shadow(0px 1px 2px rgba(0, 0, 0, 0.3));\n",
              "      fill: #FFFFFF;\n",
              "    }\n",
              "  </style>\n",
              "\n",
              "      <script>\n",
              "        const buttonEl =\n",
              "          document.querySelector('#df-5a612167-793d-44d4-a9f3-b7578e8e269f button.colab-df-convert');\n",
              "        buttonEl.style.display =\n",
              "          google.colab.kernel.accessAllowed ? 'block' : 'none';\n",
              "\n",
              "        async function convertToInteractive(key) {\n",
              "          const element = document.querySelector('#df-5a612167-793d-44d4-a9f3-b7578e8e269f');\n",
              "          const dataTable =\n",
              "            await google.colab.kernel.invokeFunction('convertToInteractive',\n",
              "                                                     [key], {});\n",
              "          if (!dataTable) return;\n",
              "\n",
              "          const docLinkHtml = 'Like what you see? Visit the ' +\n",
              "            '<a target=\"_blank\" href=https://colab.research.google.com/notebooks/data_table.ipynb>data table notebook</a>'\n",
              "            + ' to learn more about interactive tables.';\n",
              "          element.innerHTML = '';\n",
              "          dataTable['output_type'] = 'display_data';\n",
              "          await google.colab.output.renderOutput(dataTable, element);\n",
              "          const docLink = document.createElement('div');\n",
              "          docLink.innerHTML = docLinkHtml;\n",
              "          element.appendChild(docLink);\n",
              "        }\n",
              "      </script>\n",
              "    </div>\n",
              "  </div>\n"
            ]
          },
          "metadata": {},
          "execution_count": 53
        }
      ]
    },
    {
      "cell_type": "markdown",
      "source": [
        "7DAYS MOVING AVERAGE"
      ],
      "metadata": {
        "id": "w9ANtsUPlQss"
      }
    },
    {
      "cell_type": "code",
      "source": [
        "data['REGISTRATION_DATE'] = pd.to_datetime(data['REGISTRATION_DATE'])"
      ],
      "metadata": {
        "id": "lxVWq4jRlRS-"
      },
      "execution_count": null,
      "outputs": []
    },
    {
      "cell_type": "code",
      "source": [
        "registrations_per_day = data.groupby('REGISTRATION_DATE').size()"
      ],
      "metadata": {
        "id": "ArEVunv2lSds"
      },
      "execution_count": null,
      "outputs": []
    },
    {
      "cell_type": "code",
      "source": [
        "moving_average = registrations_per_day.rolling(window=7).mean()"
      ],
      "metadata": {
        "id": "hSJqH1kelSag"
      },
      "execution_count": null,
      "outputs": []
    },
    {
      "cell_type": "code",
      "source": [
        "print(moving_average)"
      ],
      "metadata": {
        "colab": {
          "base_uri": "https://localhost:8080/"
        },
        "id": "KCjs1p7olSTn",
        "outputId": "c8194b3b-5bb4-400d-d205-7c568b13708b"
      },
      "execution_count": null,
      "outputs": [
        {
          "output_type": "stream",
          "name": "stdout",
          "text": [
            "REGISTRATION_DATE\n",
            "2009-01-10          NaN\n",
            "2009-03-01          NaN\n",
            "2009-04-06          NaN\n",
            "2009-05-02          NaN\n",
            "2009-06-07          NaN\n",
            "                ...    \n",
            "2022-08-27    69.714286\n",
            "2022-08-28    72.285714\n",
            "2022-08-29    69.857143\n",
            "2022-08-30    67.571429\n",
            "2022-08-31    66.571429\n",
            "Length: 1417, dtype: float64\n"
          ]
        }
      ]
    },
    {
      "cell_type": "code",
      "source": [
        "data"
      ],
      "metadata": {
        "colab": {
          "base_uri": "https://localhost:8080/",
          "height": 423
        },
        "id": "hNKC_ECVlSQG",
        "outputId": "d71b35a6-14ec-4afc-8ca4-58c12adb2acf"
      },
      "execution_count": null,
      "outputs": [
        {
          "output_type": "execute_result",
          "data": {
            "text/plain": [
              "       IDCUSTOMER GENDER        CITY COUNTRY  FIRST_DEPOSIT_AMOUNT  \\\n",
              "0         5075649      M      ankara  Turkey                 100.0   \n",
              "1         5176235      M    elazÄ±ÄŸ  Turkey                 400.0   \n",
              "2         5249140      M       izmir  Turkey                 200.0   \n",
              "3         5300998      M   ÃœskÃ¼dar  Turkey                 100.0   \n",
              "4         5371454      M     sakarya  Turkey                 880.0   \n",
              "...           ...    ...         ...     ...                   ...   \n",
              "22060   147844121      M   Ä°stanbul  Turkey                  50.0   \n",
              "22061   147844491      M  EskiÅŸehir  Turkey                  50.0   \n",
              "22062   147846481      M         Van  Turkey                 100.0   \n",
              "22063   147843561      M     Antalya  Turkey                 200.0   \n",
              "22064   147844971      M   Ä°stanbul  Turkey                 150.0   \n",
              "\n",
              "      REGISTRATION_DATE DEPOSIT_DATE YearMonth  \n",
              "0            2009-01-10   2022-06-05   2022-06  \n",
              "1            2009-03-01   2022-02-11   2022-02  \n",
              "2            2009-04-06   2022-05-02   2022-05  \n",
              "3            2009-05-02   2022-02-11   2022-02  \n",
              "4            2009-06-07   2022-05-29   2022-05  \n",
              "...                 ...          ...       ...  \n",
              "22060        2022-08-31   2022-08-31   2022-08  \n",
              "22061        2022-08-31   2022-08-31   2022-08  \n",
              "22062        2022-08-31   2022-08-31   2022-08  \n",
              "22063        2022-08-31   2022-08-31   2022-08  \n",
              "22064        2022-08-31   2022-08-31   2022-08  \n",
              "\n",
              "[22065 rows x 8 columns]"
            ],
            "text/html": [
              "\n",
              "\n",
              "  <div id=\"df-c5fc824f-1432-4f86-8f22-3c2593dce2dc\">\n",
              "    <div class=\"colab-df-container\">\n",
              "      <div>\n",
              "<style scoped>\n",
              "    .dataframe tbody tr th:only-of-type {\n",
              "        vertical-align: middle;\n",
              "    }\n",
              "\n",
              "    .dataframe tbody tr th {\n",
              "        vertical-align: top;\n",
              "    }\n",
              "\n",
              "    .dataframe thead th {\n",
              "        text-align: right;\n",
              "    }\n",
              "</style>\n",
              "<table border=\"1\" class=\"dataframe\">\n",
              "  <thead>\n",
              "    <tr style=\"text-align: right;\">\n",
              "      <th></th>\n",
              "      <th>IDCUSTOMER</th>\n",
              "      <th>GENDER</th>\n",
              "      <th>CITY</th>\n",
              "      <th>COUNTRY</th>\n",
              "      <th>FIRST_DEPOSIT_AMOUNT</th>\n",
              "      <th>REGISTRATION_DATE</th>\n",
              "      <th>DEPOSIT_DATE</th>\n",
              "      <th>YearMonth</th>\n",
              "    </tr>\n",
              "  </thead>\n",
              "  <tbody>\n",
              "    <tr>\n",
              "      <th>0</th>\n",
              "      <td>5075649</td>\n",
              "      <td>M</td>\n",
              "      <td>ankara</td>\n",
              "      <td>Turkey</td>\n",
              "      <td>100.0</td>\n",
              "      <td>2009-01-10</td>\n",
              "      <td>2022-06-05</td>\n",
              "      <td>2022-06</td>\n",
              "    </tr>\n",
              "    <tr>\n",
              "      <th>1</th>\n",
              "      <td>5176235</td>\n",
              "      <td>M</td>\n",
              "      <td>elazÄ±ÄŸ</td>\n",
              "      <td>Turkey</td>\n",
              "      <td>400.0</td>\n",
              "      <td>2009-03-01</td>\n",
              "      <td>2022-02-11</td>\n",
              "      <td>2022-02</td>\n",
              "    </tr>\n",
              "    <tr>\n",
              "      <th>2</th>\n",
              "      <td>5249140</td>\n",
              "      <td>M</td>\n",
              "      <td>izmir</td>\n",
              "      <td>Turkey</td>\n",
              "      <td>200.0</td>\n",
              "      <td>2009-04-06</td>\n",
              "      <td>2022-05-02</td>\n",
              "      <td>2022-05</td>\n",
              "    </tr>\n",
              "    <tr>\n",
              "      <th>3</th>\n",
              "      <td>5300998</td>\n",
              "      <td>M</td>\n",
              "      <td>ÃœskÃ¼dar</td>\n",
              "      <td>Turkey</td>\n",
              "      <td>100.0</td>\n",
              "      <td>2009-05-02</td>\n",
              "      <td>2022-02-11</td>\n",
              "      <td>2022-02</td>\n",
              "    </tr>\n",
              "    <tr>\n",
              "      <th>4</th>\n",
              "      <td>5371454</td>\n",
              "      <td>M</td>\n",
              "      <td>sakarya</td>\n",
              "      <td>Turkey</td>\n",
              "      <td>880.0</td>\n",
              "      <td>2009-06-07</td>\n",
              "      <td>2022-05-29</td>\n",
              "      <td>2022-05</td>\n",
              "    </tr>\n",
              "    <tr>\n",
              "      <th>...</th>\n",
              "      <td>...</td>\n",
              "      <td>...</td>\n",
              "      <td>...</td>\n",
              "      <td>...</td>\n",
              "      <td>...</td>\n",
              "      <td>...</td>\n",
              "      <td>...</td>\n",
              "      <td>...</td>\n",
              "    </tr>\n",
              "    <tr>\n",
              "      <th>22060</th>\n",
              "      <td>147844121</td>\n",
              "      <td>M</td>\n",
              "      <td>Ä°stanbul</td>\n",
              "      <td>Turkey</td>\n",
              "      <td>50.0</td>\n",
              "      <td>2022-08-31</td>\n",
              "      <td>2022-08-31</td>\n",
              "      <td>2022-08</td>\n",
              "    </tr>\n",
              "    <tr>\n",
              "      <th>22061</th>\n",
              "      <td>147844491</td>\n",
              "      <td>M</td>\n",
              "      <td>EskiÅŸehir</td>\n",
              "      <td>Turkey</td>\n",
              "      <td>50.0</td>\n",
              "      <td>2022-08-31</td>\n",
              "      <td>2022-08-31</td>\n",
              "      <td>2022-08</td>\n",
              "    </tr>\n",
              "    <tr>\n",
              "      <th>22062</th>\n",
              "      <td>147846481</td>\n",
              "      <td>M</td>\n",
              "      <td>Van</td>\n",
              "      <td>Turkey</td>\n",
              "      <td>100.0</td>\n",
              "      <td>2022-08-31</td>\n",
              "      <td>2022-08-31</td>\n",
              "      <td>2022-08</td>\n",
              "    </tr>\n",
              "    <tr>\n",
              "      <th>22063</th>\n",
              "      <td>147843561</td>\n",
              "      <td>M</td>\n",
              "      <td>Antalya</td>\n",
              "      <td>Turkey</td>\n",
              "      <td>200.0</td>\n",
              "      <td>2022-08-31</td>\n",
              "      <td>2022-08-31</td>\n",
              "      <td>2022-08</td>\n",
              "    </tr>\n",
              "    <tr>\n",
              "      <th>22064</th>\n",
              "      <td>147844971</td>\n",
              "      <td>M</td>\n",
              "      <td>Ä°stanbul</td>\n",
              "      <td>Turkey</td>\n",
              "      <td>150.0</td>\n",
              "      <td>2022-08-31</td>\n",
              "      <td>2022-08-31</td>\n",
              "      <td>2022-08</td>\n",
              "    </tr>\n",
              "  </tbody>\n",
              "</table>\n",
              "<p>22065 rows × 8 columns</p>\n",
              "</div>\n",
              "      <button class=\"colab-df-convert\" onclick=\"convertToInteractive('df-c5fc824f-1432-4f86-8f22-3c2593dce2dc')\"\n",
              "              title=\"Convert this dataframe to an interactive table.\"\n",
              "              style=\"display:none;\">\n",
              "\n",
              "  <svg xmlns=\"http://www.w3.org/2000/svg\" height=\"24px\"viewBox=\"0 0 24 24\"\n",
              "       width=\"24px\">\n",
              "    <path d=\"M0 0h24v24H0V0z\" fill=\"none\"/>\n",
              "    <path d=\"M18.56 5.44l.94 2.06.94-2.06 2.06-.94-2.06-.94-.94-2.06-.94 2.06-2.06.94zm-11 1L8.5 8.5l.94-2.06 2.06-.94-2.06-.94L8.5 2.5l-.94 2.06-2.06.94zm10 10l.94 2.06.94-2.06 2.06-.94-2.06-.94-.94-2.06-.94 2.06-2.06.94z\"/><path d=\"M17.41 7.96l-1.37-1.37c-.4-.4-.92-.59-1.43-.59-.52 0-1.04.2-1.43.59L10.3 9.45l-7.72 7.72c-.78.78-.78 2.05 0 2.83L4 21.41c.39.39.9.59 1.41.59.51 0 1.02-.2 1.41-.59l7.78-7.78 2.81-2.81c.8-.78.8-2.07 0-2.86zM5.41 20L4 18.59l7.72-7.72 1.47 1.35L5.41 20z\"/>\n",
              "  </svg>\n",
              "      </button>\n",
              "\n",
              "\n",
              "\n",
              "    <div id=\"df-23cb9b99-54f5-4a25-9a44-2a82777c08ac\">\n",
              "      <button class=\"colab-df-quickchart\" onclick=\"quickchart('df-23cb9b99-54f5-4a25-9a44-2a82777c08ac')\"\n",
              "              title=\"Suggest charts.\"\n",
              "              style=\"display:none;\">\n",
              "\n",
              "<svg xmlns=\"http://www.w3.org/2000/svg\" height=\"24px\"viewBox=\"0 0 24 24\"\n",
              "     width=\"24px\">\n",
              "    <g>\n",
              "        <path d=\"M19 3H5c-1.1 0-2 .9-2 2v14c0 1.1.9 2 2 2h14c1.1 0 2-.9 2-2V5c0-1.1-.9-2-2-2zM9 17H7v-7h2v7zm4 0h-2V7h2v10zm4 0h-2v-4h2v4z\"/>\n",
              "    </g>\n",
              "</svg>\n",
              "      </button>\n",
              "    </div>\n",
              "\n",
              "<style>\n",
              "  .colab-df-quickchart {\n",
              "    background-color: #E8F0FE;\n",
              "    border: none;\n",
              "    border-radius: 50%;\n",
              "    cursor: pointer;\n",
              "    display: none;\n",
              "    fill: #1967D2;\n",
              "    height: 32px;\n",
              "    padding: 0 0 0 0;\n",
              "    width: 32px;\n",
              "  }\n",
              "\n",
              "  .colab-df-quickchart:hover {\n",
              "    background-color: #E2EBFA;\n",
              "    box-shadow: 0px 1px 2px rgba(60, 64, 67, 0.3), 0px 1px 3px 1px rgba(60, 64, 67, 0.15);\n",
              "    fill: #174EA6;\n",
              "  }\n",
              "\n",
              "  [theme=dark] .colab-df-quickchart {\n",
              "    background-color: #3B4455;\n",
              "    fill: #D2E3FC;\n",
              "  }\n",
              "\n",
              "  [theme=dark] .colab-df-quickchart:hover {\n",
              "    background-color: #434B5C;\n",
              "    box-shadow: 0px 1px 3px 1px rgba(0, 0, 0, 0.15);\n",
              "    filter: drop-shadow(0px 1px 2px rgba(0, 0, 0, 0.3));\n",
              "    fill: #FFFFFF;\n",
              "  }\n",
              "</style>\n",
              "\n",
              "    <script>\n",
              "      async function quickchart(key) {\n",
              "        const containerElement = document.querySelector('#' + key);\n",
              "        const charts = await google.colab.kernel.invokeFunction(\n",
              "            'suggestCharts', [key], {});\n",
              "      }\n",
              "    </script>\n",
              "\n",
              "      <script>\n",
              "\n",
              "function displayQuickchartButton(domScope) {\n",
              "  let quickchartButtonEl =\n",
              "    domScope.querySelector('#df-23cb9b99-54f5-4a25-9a44-2a82777c08ac button.colab-df-quickchart');\n",
              "  quickchartButtonEl.style.display =\n",
              "    google.colab.kernel.accessAllowed ? 'block' : 'none';\n",
              "}\n",
              "\n",
              "        displayQuickchartButton(document);\n",
              "      </script>\n",
              "      <style>\n",
              "    .colab-df-container {\n",
              "      display:flex;\n",
              "      flex-wrap:wrap;\n",
              "      gap: 12px;\n",
              "    }\n",
              "\n",
              "    .colab-df-convert {\n",
              "      background-color: #E8F0FE;\n",
              "      border: none;\n",
              "      border-radius: 50%;\n",
              "      cursor: pointer;\n",
              "      display: none;\n",
              "      fill: #1967D2;\n",
              "      height: 32px;\n",
              "      padding: 0 0 0 0;\n",
              "      width: 32px;\n",
              "    }\n",
              "\n",
              "    .colab-df-convert:hover {\n",
              "      background-color: #E2EBFA;\n",
              "      box-shadow: 0px 1px 2px rgba(60, 64, 67, 0.3), 0px 1px 3px 1px rgba(60, 64, 67, 0.15);\n",
              "      fill: #174EA6;\n",
              "    }\n",
              "\n",
              "    [theme=dark] .colab-df-convert {\n",
              "      background-color: #3B4455;\n",
              "      fill: #D2E3FC;\n",
              "    }\n",
              "\n",
              "    [theme=dark] .colab-df-convert:hover {\n",
              "      background-color: #434B5C;\n",
              "      box-shadow: 0px 1px 3px 1px rgba(0, 0, 0, 0.15);\n",
              "      filter: drop-shadow(0px 1px 2px rgba(0, 0, 0, 0.3));\n",
              "      fill: #FFFFFF;\n",
              "    }\n",
              "  </style>\n",
              "\n",
              "      <script>\n",
              "        const buttonEl =\n",
              "          document.querySelector('#df-c5fc824f-1432-4f86-8f22-3c2593dce2dc button.colab-df-convert');\n",
              "        buttonEl.style.display =\n",
              "          google.colab.kernel.accessAllowed ? 'block' : 'none';\n",
              "\n",
              "        async function convertToInteractive(key) {\n",
              "          const element = document.querySelector('#df-c5fc824f-1432-4f86-8f22-3c2593dce2dc');\n",
              "          const dataTable =\n",
              "            await google.colab.kernel.invokeFunction('convertToInteractive',\n",
              "                                                     [key], {});\n",
              "          if (!dataTable) return;\n",
              "\n",
              "          const docLinkHtml = 'Like what you see? Visit the ' +\n",
              "            '<a target=\"_blank\" href=https://colab.research.google.com/notebooks/data_table.ipynb>data table notebook</a>'\n",
              "            + ' to learn more about interactive tables.';\n",
              "          element.innerHTML = '';\n",
              "          dataTable['output_type'] = 'display_data';\n",
              "          await google.colab.output.renderOutput(dataTable, element);\n",
              "          const docLink = document.createElement('div');\n",
              "          docLink.innerHTML = docLinkHtml;\n",
              "          element.appendChild(docLink);\n",
              "        }\n",
              "      </script>\n",
              "    </div>\n",
              "  </div>\n"
            ]
          },
          "metadata": {},
          "execution_count": 58
        }
      ]
    },
    {
      "cell_type": "code",
      "source": [],
      "metadata": {
        "id": "lElRb0_elSMk"
      },
      "execution_count": null,
      "outputs": []
    },
    {
      "cell_type": "markdown",
      "source": [
        "CONVERSION PERCENTAGE"
      ],
      "metadata": {
        "id": "TmeQ3jF2zx_R"
      }
    },
    {
      "cell_type": "code",
      "source": [
        "data['REGISTRATION_DATE'] = pd.to_datetime(data['REGISTRATION_DATE'])\n",
        "data['DEPOSIT_DATE'] = pd.to_datetime(data['DEPOSIT_DATE'])"
      ],
      "metadata": {
        "id": "a_KBpCgvlSJK"
      },
      "execution_count": null,
      "outputs": []
    },
    {
      "cell_type": "code",
      "source": [
        "data['YEAR_MONTH'] = data['DEPOSIT_DATE'].dt.to_period('M')"
      ],
      "metadata": {
        "id": "QtZHqNF4lSFS"
      },
      "execution_count": null,
      "outputs": []
    },
    {
      "cell_type": "code",
      "source": [
        "registerations_per_month = data.groupby('YEAR_MONTH')['REGISTRATION_DATE'].nunique()\n"
      ],
      "metadata": {
        "id": "ybaX1yNnlSBv"
      },
      "execution_count": null,
      "outputs": []
    },
    {
      "cell_type": "code",
      "source": [
        "deposits_per_month = data.groupby('YEAR_MONTH')['DEPOSIT_DATE'].nunique()"
      ],
      "metadata": {
        "id": "4O5YP6VpyNt0"
      },
      "execution_count": null,
      "outputs": []
    },
    {
      "cell_type": "code",
      "source": [
        "conversion_percentage = (deposits_per_month / registerations_per_month) * 100"
      ],
      "metadata": {
        "id": "w-7jTwPIjdnN"
      },
      "execution_count": null,
      "outputs": []
    },
    {
      "cell_type": "code",
      "source": [
        "plt.figure(figsize=(9, 7))\n",
        "plt.bar(conversion_percentage.index.astype(str), conversion_percentage, color='red')\n",
        "plt.xlabel('Year & Month')\n",
        "plt.ylabel('Conversion Percentage')\n",
        "plt.title('Conversion Percentage by Month')\n",
        "plt.xticks(rotation=45)\n",
        "plt.tight_layout()\n",
        "plt.show()"
      ],
      "metadata": {
        "colab": {
          "base_uri": "https://localhost:8080/",
          "height": 707
        },
        "id": "0DqhmQRMjdke",
        "outputId": "15817ff5-3b58-45f6-da42-96b457f3d374"
      },
      "execution_count": null,
      "outputs": [
        {
          "output_type": "display_data",
          "data": {
            "text/plain": [
              "<Figure size 900x700 with 1 Axes>"
            ],
            "image/png": "[encoded data removed]"
          },
          "metadata": {}
        }
      ]
    }
  ]
}