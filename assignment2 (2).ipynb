{
  "nbformat": 4,
  "nbformat_minor": 0,
  "metadata": {
    "colab": {
      "name": "assignment2.ipynb",
      "provenance": []
    },
    "kernelspec": {
      "name": "python3",
      "display_name": "Python 3"
    },
    "language_info": {
      "name": "python"
    }
  },
  "cells": [
    {
      "cell_type": "code",
      "execution_count": null,
      "metadata": {
        "id": "VbnXNuPtFZTF"
      },
      "outputs": [],
      "source": [
        ""
      ]
    },
    {
      "cell_type": "markdown",
      "source": [
        "Problem-1\n",
        "Write a small program to check a number is divisible by 7 or not"
      ],
      "metadata": {
        "id": "BbErXtiqFeYz"
      }
    },
    {
      "cell_type": "code",
      "source": [
        "n=int(input('Enter n:'))\n",
        "\n",
        "if(n%7==0):\n",
        "  print(n,'is divisible by 7')\n",
        "else:\n",
        "  print(n,'is not divisible by 7')"
      ],
      "metadata": {
        "colab": {
          "base_uri": "https://localhost:8080/"
        },
        "id": "mr2aYX8iFoof",
        "outputId": "539419f8-3ac7-4821-e32a-298cefcda5a9"
      },
      "execution_count": 1,
      "outputs": [
        {
          "output_type": "stream",
          "name": "stdout",
          "text": [
            "Enter n:2\n",
            "2 is not divisible by 7\n"
          ]
        }
      ]
    },
    {
      "cell_type": "markdown",
      "source": [
        "Problem-2\n",
        "If a number is divisible by either 5 or 7, then we will call it a 'five-or-seven' number.\n",
        "Write down a program to check if a number is 'five-or-seven' number or not."
      ],
      "metadata": {
        "id": "oRtXEHngF48A"
      }
    },
    {
      "cell_type": "code",
      "source": [
        "n=int(input('Enter n:'))\n",
        "\n",
        "if(n%7==0) or (n%5==0):\n",
        "  print(n,'is five-or-seven number')\n",
        "else:\n",
        "  print(n,'is not five-or-seven number')\n"
      ],
      "metadata": {
        "colab": {
          "base_uri": "https://localhost:8080/"
        },
        "id": "h82SGo2_F57T",
        "outputId": "23ea6966-53f8-4a27-f828-97e4f78f2433"
      },
      "execution_count": 2,
      "outputs": [
        {
          "output_type": "stream",
          "name": "stdout",
          "text": [
            "Enter n:102\n",
            "102 is not five-or-seven number\n"
          ]
        }
      ]
    },
    {
      "cell_type": "markdown",
      "source": [
        "Problem-3\n",
        "Write a program to calculate the electricity bill (accept number of unit from user) according to the following criteria:\n",
        "\n",
        "Upto first 100 units Rs. 3 per unit.\n",
        "Next 100 units Rs. 5 per unit.\n",
        "Next 300 units Rs. 7 per unit.\n",
        "Above that, for each unit exceeding 500, Rs. 10 per unit flat."
      ],
      "metadata": {
        "id": "V7i_1lsnGJE8"
      }
    },
    {
      "cell_type": "code",
      "source": [
        "prev=float(input('Enter Previous reading: '))\n",
        "pread=float(input('Enter Present reading: '))\n",
        "units=pread-prev\n",
        "print('Number of Units=',units)\n",
        "if (units<=100):\n",
        "      p1= units*3\n",
        "      print(p1)\n",
        "elif (units>100 and units<=200):\n",
        "      p2=((100*3)+(units-100)*5)\n",
        "      print(p2)\n",
        "elif (units>200 and units<=500):\n",
        "      p3=((100*3)+(100*5)+(units-200)*7)\n",
        "      print(p3)\n",
        "elif (units>500):\n",
        "      p4=((100*3)+(100*5)+(300*7)+(units-500)*10);\n",
        "      print(p4)"
      ],
      "metadata": {
        "colab": {
          "base_uri": "https://localhost:8080/"
        },
        "id": "r5UWcKIkGNKX",
        "outputId": "0df0fc3f-ed63-4f34-98aa-cf6b9c97a3c8"
      },
      "execution_count": 3,
      "outputs": [
        {
          "output_type": "stream",
          "name": "stdout",
          "text": [
            "Enter Previous reading: 1850\n",
            "Enter Present reading: 2014\n",
            "Number of Units= 164.0\n",
            "620.0\n"
          ]
        }
      ]
    },
    {
      "cell_type": "markdown",
      "source": [
        "Problem-4\n",
        "Find out sum of square of all the numbers upto 10, starting from 1"
      ],
      "metadata": {
        "id": "A52qwno8GXHJ"
      }
    },
    {
      "cell_type": "code",
      "source": [
        "n=10\n",
        "s=0\n",
        "for i in range (1,n+1):\n",
        "    s=s+(i**2)\n",
        "print(s)"
      ],
      "metadata": {
        "colab": {
          "base_uri": "https://localhost:8080/"
        },
        "id": "Ks5yge2EGbl5",
        "outputId": "d2d60fc3-9d1e-4d01-c816-fa7cc0985e65"
      },
      "execution_count": 4,
      "outputs": [
        {
          "output_type": "stream",
          "name": "stdout",
          "text": [
            "385\n"
          ]
        }
      ]
    },
    {
      "cell_type": "markdown",
      "source": [
        "Problem-5\n",
        "Find out sum of square of all the even numbers upto 10, starting from 1"
      ],
      "metadata": {
        "id": "zWDdWQ3BGjUT"
      }
    },
    {
      "cell_type": "code",
      "source": [
        "s=0\n",
        "for i in range (1,5):\n",
        "    s=s+((2*i)*(2*i))\n",
        "print(s)"
      ],
      "metadata": {
        "colab": {
          "base_uri": "https://localhost:8080/"
        },
        "id": "drIvI4aYGkHh",
        "outputId": "d4c0c98d-05af-4cad-d893-e6c07569a133"
      },
      "execution_count": 5,
      "outputs": [
        {
          "output_type": "stream",
          "name": "stdout",
          "text": [
            "120\n"
          ]
        }
      ]
    },
    {
      "cell_type": "markdown",
      "source": [
        "Problem-6\n",
        "Check a number is prime or not"
      ],
      "metadata": {
        "id": "z3aRKaLuGrzH"
      }
    },
    {
      "cell_type": "code",
      "source": [
        "n=int(input('Enter a number:'))\n",
        "f=0\n",
        "for i in range(2,n):\n",
        "    if(n%i==0):\n",
        "          f=1\n",
        "if (f==0):\n",
        "    print(n,'is a Prime Number')\n",
        "else:\n",
        "    print(n,'is not a Prime Number')"
      ],
      "metadata": {
        "colab": {
          "base_uri": "https://localhost:8080/"
        },
        "id": "ajsw7eFSGs8I",
        "outputId": "267a61f0-f91d-44ec-acfb-28e0ed8dd8a9"
      },
      "execution_count": 6,
      "outputs": [
        {
          "output_type": "stream",
          "name": "stdout",
          "text": [
            "Enter a number:12\n",
            "12 is not a Prime Number\n"
          ]
        }
      ]
    },
    {
      "cell_type": "markdown",
      "source": [
        "Problem-7\n",
        "Print multiplication table upto 10 starting from 1"
      ],
      "metadata": {
        "id": "6vEVxHu-G1J8"
      }
    },
    {
      "cell_type": "code",
      "source": [
        "n=int(input('Enter a number:'))\n",
        "for i in range(1,11):\n",
        "    r=n*i\n",
        "    print(n,'*',i,'=',r)"
      ],
      "metadata": {
        "colab": {
          "base_uri": "https://localhost:8080/"
        },
        "id": "U73R_VBwG2BW",
        "outputId": "85bbee8d-25bc-41d9-976d-eaa89ee59d7b"
      },
      "execution_count": 7,
      "outputs": [
        {
          "output_type": "stream",
          "name": "stdout",
          "text": [
            "Enter a number:15\n",
            "15 * 1 = 15\n",
            "15 * 2 = 30\n",
            "15 * 3 = 45\n",
            "15 * 4 = 60\n",
            "15 * 5 = 75\n",
            "15 * 6 = 90\n",
            "15 * 7 = 105\n",
            "15 * 8 = 120\n",
            "15 * 9 = 135\n",
            "15 * 10 = 150\n"
          ]
        }
      ]
    },
    {
      "cell_type": "markdown",
      "source": [
        "Problem-8\n",
        "Print the series of first n fibonacci numbers"
      ],
      "metadata": {
        "id": "ZU6g7r91G-05"
      }
    },
    {
      "cell_type": "code",
      "source": [
        "n=int(input('Enter a number'))\n",
        "f1=0\n",
        "f2=1\n",
        "print(f1)\n",
        "print(f2)\n",
        "for i in range(3,n+1):\n",
        "    f3=f1+f2\n",
        "    print(f3)\n",
        "    f1=f2\n",
        "    f2=f3"
      ],
      "metadata": {
        "colab": {
          "base_uri": "https://localhost:8080/"
        },
        "id": "mCFB6OPBG_n6",
        "outputId": "eddd618c-ce8c-41d7-a1fb-9d511fbcddac"
      },
      "execution_count": 8,
      "outputs": [
        {
          "output_type": "stream",
          "name": "stdout",
          "text": [
            "Enter a number2\n",
            "0\n",
            "1\n"
          ]
        }
      ]
    },
    {
      "cell_type": "markdown",
      "source": [
        ""
      ],
      "metadata": {
        "id": "p5gcXiXBHGBZ"
      }
    }
  ]
}